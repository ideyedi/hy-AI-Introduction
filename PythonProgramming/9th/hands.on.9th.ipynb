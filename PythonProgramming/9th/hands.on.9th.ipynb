{
 "cells": [
  {
   "cell_type": "code",
   "execution_count": 15,
   "id": "understood-definition",
   "metadata": {},
   "outputs": [],
   "source": [
    "import os\n",
    "\n",
    "import requests\n",
    "from bs4 import BeautifulSoup"
   ]
  },
  {
   "cell_type": "code",
   "execution_count": 16,
   "id": "arbitrary-petroleum",
   "metadata": {},
   "outputs": [
    {
     "data": {
      "text/plain": [
       "<Response [200]>"
      ]
     },
     "execution_count": 16,
     "metadata": {},
     "output_type": "execute_result"
    }
   ],
   "source": [
    "res = requests.get('https://search.daum.net/search?w=tot&DA=YZR&t__nil_searchbox=btn&sug=&sugo=&sq=&o=&q=한양대학교')\n",
    "res"
   ]
  },
  {
   "cell_type": "code",
   "execution_count": 17,
   "id": "settled-concrete",
   "metadata": {},
   "outputs": [],
   "source": [
    "# Parsing res content using bssoup\n",
    "soup = BeautifulSoup(res.content, 'html.parser', from_encoding='UTF-8')"
   ]
  },
  {
   "cell_type": "code",
   "execution_count": 18,
   "id": "fossil-escape",
   "metadata": {},
   "outputs": [
    {
     "data": {
      "text/plain": [
       "'한양대학교'"
      ]
     },
     "execution_count": 18,
     "metadata": {},
     "output_type": "execute_result"
    }
   ],
   "source": [
    "name_tags = soup.select('.mg_cont > div > span')\n",
    "\n",
    "title_tag = name_tags[0]\n",
    "title = title_tag.text.strip()\n",
    "\n",
    "title"
   ]
  },
  {
   "cell_type": "code",
   "execution_count": 19,
   "id": "de328032-0455-4418-9d6b-b847860f9818",
   "metadata": {},
   "outputs": [
    {
     "data": {
      "text/plain": [
       "'도로명 주소서울 성동구 왕십리로 222'"
      ]
     },
     "execution_count": 19,
     "metadata": {},
     "output_type": "execute_result"
    }
   ],
   "source": [
    "tags = soup.select('.mg_cont > div > div .txt_addr')[0]\n",
    "address = tags.text.strip()\n",
    "address"
   ]
  },
  {
   "cell_type": "code",
   "execution_count": 20,
   "id": "5c925742-af7a-4a90-96b7-423a95dca8fd",
   "metadata": {},
   "outputs": [
    {
     "data": {
      "text/plain": [
       "'4년제 사립 일반대학교'"
      ]
     },
     "execution_count": 20,
     "metadata": {},
     "output_type": "execute_result"
    }
   ],
   "source": [
    "tags = soup.select('.mg_cont > div > div .cont')\n",
    "content_tag = tags[1]\n",
    "content = content_tag.text.strip()\n",
    "content"
   ]
  },
  {
   "cell_type": "code",
   "execution_count": 21,
   "id": "4be8622b-7291-4ba9-9f96-b8ccf2ee8274",
   "metadata": {},
   "outputs": [
    {
     "name": "stdout",
     "output_type": "stream",
     "text": [
      "대학 : 한양대학교\n",
      "주소 : 도로명 주소서울 성동구 왕십리로 222\n",
      "구분 : 4년제 사립 일반대학교\n"
     ]
    }
   ],
   "source": [
    "print('대학 : {}'.format(title))\n",
    "print('주소 : {}'.format(address))\n",
    "print('구분 : {}'.format(content))"
   ]
  },
  {
   "cell_type": "code",
   "execution_count": 38,
   "id": "aa1afd90-1486-4687-898c-4300dd23c33a",
   "metadata": {},
   "outputs": [],
   "source": [
    "# Save logo image file\n",
    "tags = soup.select('.mg_cont > .tab_body > div > div .thumb_img')\n",
    "src_list = tags[0].get('src').split('=')\n",
    "img_res = requests.get(src_list[1])\n",
    "img_res\n",
    "with open('./logo.png', 'wb') as f:\n",
    "    f.write(img_res.content)"
   ]
  },
  {
   "cell_type": "code",
   "execution_count": 40,
   "id": "43a0560d-a703-4cd9-96c5-947ba8b90c83",
   "metadata": {},
   "outputs": [
    {
     "data": {
      "text/plain": [
       "'한양대학교'"
      ]
     },
     "execution_count": 40,
     "metadata": {},
     "output_type": "execute_result"
    }
   ],
   "source": [
    "univ = soup.find_all('div', {'disp-attr':'YON'})[0]\n",
    "univ_name = univ.select('.tit_info')[0].text\n",
    "univ_name"
   ]
  },
  {
   "cell_type": "code",
   "execution_count": 41,
   "id": "73ebc241-afc7-48c5-bd39-54bc524f376a",
   "metadata": {},
   "outputs": [
    {
     "data": {
      "text/plain": [
       "'도로명 주소서울 성동구 왕십리로 222'"
      ]
     },
     "execution_count": 41,
     "metadata": {},
     "output_type": "execute_result"
    }
   ],
   "source": [
    "univ_addr = univ.select('.txt_addr')[0].text\n",
    "univ_addr"
   ]
  },
  {
   "cell_type": "code",
   "execution_count": 43,
   "id": "6f320ea1-259f-4fde-9902-869afbd1294d",
   "metadata": {},
   "outputs": [
    {
     "data": {
      "text/plain": [
       "' 도로명 주소서울 성동구 왕십리로 222 지도  (지번)\\xa0서울 성동구 사근동 110  '"
      ]
     },
     "execution_count": 43,
     "metadata": {},
     "output_type": "execute_result"
    }
   ],
   "source": [
    "univ_div = univ.select('.dl_comm > .cont')[0].text\n",
    "univ_div"
   ]
  },
  {
   "cell_type": "code",
   "execution_count": 45,
   "id": "1876bb6d-5c19-4d46-84c5-0392fdb39a9b",
   "metadata": {},
   "outputs": [
    {
     "data": {
      "text/plain": [
       "'4년제 사립 일반대학교'"
      ]
     },
     "execution_count": 45,
     "metadata": {},
     "output_type": "execute_result"
    }
   ],
   "source": [
    "univ_infos = univ.select('.dl_comm')\n",
    "#len(univ_infos)\n",
    "univ_div = univ_infos[1].select('.cont')[0].text\n",
    "univ_div"
   ]
  },
  {
   "cell_type": "code",
   "execution_count": 46,
   "id": "15ecea88-15a3-4955-8e03-a8e2addbeeb5",
   "metadata": {},
   "outputs": [],
   "source": [
    "img_src = univ.select('.thumb_img')[0]\n",
    "img = requests.get('https:' + img_src.get('src'))\n",
    "\n",
    "with open('handon.log.png', 'wb') as ff:\n",
    "    ff.write(img.content)\n"
   ]
  },
  {
   "cell_type": "code",
   "execution_count": 67,
   "id": "7897d54f-f8c8-45c0-a8ce-bad712b3ea82",
   "metadata": {},
   "outputs": [
    {
     "name": "stdout",
     "output_type": "stream",
     "text": [
      "안산시상록장애인복지관, 한양대학교 스포츠과학부와 업무 협약 체결\n",
      "https://cp.news.search.daum.net/p/105796501\n",
      "인천일보\n",
      "------------------------------------------------------------\n",
      "한양대학교병원, ‘2021 제2회 연구자주도 혁신형 심포지엄’ 개최\n",
      "https://cp.news.search.daum.net/p/105553569\n",
      "메디팜스투데이\n",
      "------------------------------------------------------------\n",
      "한양대학교 한국어문화원, 숨어있는 세종대왕을 찾아라\n",
      "https://cp.news.search.daum.net/p/105434752\n",
      "화성인터넷신문\n",
      "------------------------------------------------------------\n",
      "창녕군, 한양대학교 창원한마음병원과 손잡아\n",
      "https://cp.news.search.daum.net/p/105224883\n",
      "내외뉴스통신\n",
      "------------------------------------------------------------\n"
     ]
    }
   ],
   "source": [
    "###### problem 2 ######\n",
    "news_list = soup.find_all('div', {'disp-attr':'NNS'})[0].select('.list_info > li')\n",
    "\n",
    "for news in news_list:\n",
    "    news_title = news.select('.f_link_b')[0].text\n",
    "    news_link = news.select('.f_link_b')[0].get('href')\n",
    "    news_company = news.select('.f_nb')[0].text.split('|')[-1].strip()\n",
    "    \n",
    "    print(news_title)\n",
    "    print(news_link)\n",
    "    print(news_company)\n",
    "    print('-'*60)"
   ]
  },
  {
   "cell_type": "code",
   "execution_count": 72,
   "id": "8c099616-831a-4206-8c45-4755a1e0c6b0",
   "metadata": {},
   "outputs": [
    {
     "name": "stdout",
     "output_type": "stream",
     "text": [
      "프리미엄링크\n",
      "0 https://search1.daumcdn.net/thumb/R120x120.q70/?fname=https://t1.daumcdn.net/clix_image_library_public/img/59122f26af1bfcddb051f1047492550955c91e9b\n",
      "====================================================================================================\n",
      "\n",
      "블로그\n",
      "0 https://search4.kakaocdn.net/argon/130x130_85_c/5cvV3KYYBHg\n",
      "1 https://search3.kakaocdn.net/argon/130x130_85_c/5ZGtQt3btVc\n",
      "2 https://search4.kakaocdn.net/argon/130x130_85_c/2mB0yfUAcpq\n",
      "====================================================================================================\n",
      "\n",
      "백과사전\n",
      "0 https://search2.kakaocdn.net/argon/216x216_85_c/KRoHHhMap3p\n",
      "1 https://search1.kakaocdn.net/argon/216x216_85_c/2rYhWSMXXci\n",
      "====================================================================================================\n",
      "\n",
      "학교검색\n",
      "0 https://search1.daumcdn.net/thumb/P88x88/?fname=http://cfile73.uf.daum.net/image/142047044AF11C84392704\n",
      "1 https://search1.daumcdn.net/thumb/P200x200.b/?fname=http://cfile73.uf.daum.net/image/142047044AF11C84392704\n",
      "====================================================================================================\n",
      "\n",
      "뉴스\n",
      "0 https://search2.daumcdn.net/thumb/P200x200/?fname=https%3A%2F%2Fsearch3.kakaocdn.net%2Fargon%2F200x200_85_c%2F5sUM8QnO73n0\n",
      "1 https://search3.daumcdn.net/thumb/P200x200/?fname=https%3A%2F%2Fsearch4.kakaocdn.net%2Fargon%2F200x200_85_c%2F5F63EqLAt1F0\n",
      "2 https://search2.daumcdn.net/thumb/P200x200/?fname=https%3A%2F%2Fsearch2.kakaocdn.net%2Fargon%2F200x200_85_c%2FFNoDkVEz7Yu0\n",
      "====================================================================================================\n",
      "\n",
      "브런치\n",
      "0 https://search1.daumcdn.net/thumb/C116x116.fjpg/?fname=http%3A%2F%2Ft1.daumcdn.net%2Fbrunch%2Fservice%2Fuser%2FsVy%2Fimage%2FSIkmHMujjNEqYP_RTNndWXH7eGs.jpg\n",
      "1 https://search2.daumcdn.net/thumb/C116x116.fjpg/?fname=http%3A%2F%2Ft1.daumcdn.net%2Fbrunch%2Fservice%2Fuser%2FP7F%2Fimage%2FY7y63H1Sj_Mml67km6IxMDbfJ_Q.jpg\n",
      "2 https://search3.daumcdn.net/thumb/C116x116.fjpg/?fname=http%3A%2F%2Ft1.daumcdn.net%2Fbrunch%2Fservice%2Fuser%2F4q7a%2Fimage%2FO7W9GbNjTd3QPHRktm5J955Fyvc.jpg\n",
      "3 https://search1.daumcdn.net/thumb/C80x80.fjpg/?fname=http%3A%2F%2Ft1.daumcdn.net%2Fbrunch%2Fservice%2Fuser%2F8WO8%2Fimage%2FDX-NT8YZ_ffsFQG2H3CC9pqWHUs.jpeg\n",
      "4 https://search1.daumcdn.net/thumb/C80x80.fjpg/?fname=http%3A%2F%2Ft1.daumcdn.net%2Fbrunch%2Fservice%2Fuser%2Faoeb%2Fimage%2FPEsQu4Vidvi28mBOHKjN15Xrtko.jpg\n",
      "5 https://search1.daumcdn.net/thumb/C80x80.fjpg/?fname=http%3A%2F%2Ft1.daumcdn.net%2Fbrunch%2Fservice%2Fuser%2F2eOv%2Fimage%2F1TeDzn-1IvsoQqbId2EkbpInyWI.png\n",
      "6 https://search1.daumcdn.net/thumb/C80x80.fjpg/?fname=http%3A%2F%2Ft1.daumcdn.net%2Fbrunch%2Fservice%2Fuser%2F3roJ%2Fimage%2FvJ7KnR2QdanM2vD4v8J731OB8NM.png\n",
      "7 https://search1.daumcdn.net/thumb/C80x80.fjpg/?fname=http%3A%2F%2Ft1.daumcdn.net%2Fbrunch%2Fservice%2Fuser%2F4ucA%2Fimage%2F2Qte213WzoSGvPVt1vVWe8nt6qw.jpg\n",
      "8 https://search1.daumcdn.net/thumb/C80x80.fjpg/?fname=http%3A%2F%2Ft1.daumcdn.net%2Fbrunch%2Fservice%2Fuser%2F31xH%2Fimage%2Fj8vbF0VLkSnOBB8vXj_F4z_Lfys.jpg\n",
      "====================================================================================================\n",
      "\n",
      "다음 책\n",
      "0 https://search1.kakaocdn.net/thumb/R120x174.q85/?fname=http://search1.daumcdn.net/search/statics/common/img/noimg/4grid.png\n",
      "1 https://search1.kakaocdn.net/thumb/R120x174.q85/?fname=http://search1.daumcdn.net/search/statics/common/img/noimg/4grid.png\n",
      "2 https://search1.kakaocdn.net/thumb/R120x174.q85/?fname=http%3A%2F%2Ft1.daumcdn.net%2Flbook%2Fimage%2F1362754%3Ftimestamp%3D20210324165433\n",
      "====================================================================================================\n",
      "\n",
      "동영상\n",
      "0 https://search2.kakaocdn.net/argon/229x128_80_pr/9y178X1OCA5\n",
      "1 https://search2.kakaocdn.net/argon/229x128_80_pr/2Wiy9W0GUrV\n",
      "2 https://search3.kakaocdn.net/argon/229x128_80_pr/2J5McWxnAe2\n",
      "3 https://search2.kakaocdn.net/argon/229x128_80_pr/r0E5emV7Lt\n",
      "4 https://search2.kakaocdn.net/argon/229x128_80_pr/1peQituLNSH\n",
      "====================================================================================================\n",
      "\n"
     ]
    }
   ],
   "source": [
    "### problem 3 ###\n",
    "import os\n",
    "\n",
    "comp_list = soup.select('.g_comp')\n",
    "#len(comp_list)\n",
    "\n",
    "for idx, comp in enumerate(comp_list):\n",
    "    comp_name = comp.select('.tit')\n",
    "    if len(comp_name) < 1:\n",
    "        continue\n",
    "    \n",
    "    if comp_name[0].span != None:\n",
    "        comp_name[0].span.decompose()\n",
    "    \n",
    "    comp_name = comp_name[0].text.strip()\n",
    "    \n",
    "    comp_img_list = comp.select('.thumb_img')\n",
    "    if len(comp_img_list) < 1:\n",
    "        continue\n",
    "    \n",
    "    folder_path = comp_name\n",
    "    if not os.path.exists(folder_path):\n",
    "        os.makedirs(folder_path, exist_ok=True)\n",
    "    \n",
    "    print(comp_name)\n",
    "    for num, comp_img in enumerate(comp_img_list):\n",
    "        img_src = comp_img.get('src')\n",
    "        \n",
    "        if not 'https:' in img_src:\n",
    "            img_src = 'https:' + img_src\n",
    "            \n",
    "        print(num, img_src)\n",
    "        \n",
    "        fname = str(num) + '.png'\n",
    "        img_path = os.path.join(folder_path, fname)\n",
    "        img_res = requests.get(img_src)\n",
    "        try:\n",
    "            with open(img_path, 'wb') as f:\n",
    "                f.write(img_res.content)\n",
    "        except:\n",
    "            print(img_path)\n",
    "    \n",
    "    print('='*100)\n",
    "    print()"
   ]
  },
  {
   "cell_type": "code",
   "execution_count": null,
   "id": "38c1590a-14c3-4955-be04-efbb3d5975b7",
   "metadata": {},
   "outputs": [],
   "source": []
  }
 ],
 "metadata": {
  "kernelspec": {
   "display_name": "Python 3",
   "language": "python",
   "name": "python3"
  },
  "language_info": {
   "codemirror_mode": {
    "name": "ipython",
    "version": 3
   },
   "file_extension": ".py",
   "mimetype": "text/x-python",
   "name": "python",
   "nbconvert_exporter": "python",
   "pygments_lexer": "ipython3",
   "version": "3.8.5"
  }
 },
 "nbformat": 4,
 "nbformat_minor": 5
}
