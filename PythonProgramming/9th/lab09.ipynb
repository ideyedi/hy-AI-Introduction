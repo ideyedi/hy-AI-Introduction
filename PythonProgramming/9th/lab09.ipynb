{
 "cells": [
  {
   "cell_type": "code",
   "execution_count": 1,
   "id": "ignored-nothing",
   "metadata": {},
   "outputs": [],
   "source": [
    "# Naver search result crawling \n",
    "# static page analaysis\n",
    "import requests\n",
    "from bs4 import BeautifulSoup\n",
    "\n",
    "res = requests.get('https://search.naver.com/search.naver?where=nexearch&sm=top_hty&fbm=0&ie=utf8&query=한양대학교')\n",
    "#res.content"
   ]
  },
  {
   "cell_type": "code",
   "execution_count": 2,
   "id": "devoted-comparative",
   "metadata": {},
   "outputs": [
    {
     "name": "stdout",
     "output_type": "stream",
     "text": [
      "한양대 - 한양대학교 https://www.hanyang.ac.kr/\n",
      "학교 소개, 학과소개, 행정지원안내, 연구성과, 입학 및 학사안내. ... 2021 한양국제여름학교 수강신청 : 5월 26일 (수) 10:00 ~ 5월 28일 (금) 17:00 차세대 LMS 2021년 9월임용 교수초빙 전임교원 상시채용 인재 Pool 등록 2021학년도 한양대학교 단체교섭 대표 노동조합 확정공고 학부생 생활비지원 ‘라이언 장학금’ 안내 보이스피싱 주의 안내 코로나19 특별장학금 한양대학교 총동문회 차세대 LMS 2021년 9월임용 교수초빙 전임교원 상시채용 인재 Pool 등록 연\n",
      "======================================================================\n",
      "한양대학교 입학처 https://go.hanyang.ac.kr/\n",
      "2022학년도 전형계획 설명회 2022학년도 전형계획 설명회1부 2022학년도 전형계획 설명회2부 2021학년도 한양대학교 주요 입학전형 선발 결과 2019-2021학년도 입학정보공개... 2022학년도 전형계획 설명회2부 2021학년도 한양대학교 주요 입학전형 선발 결과 2019-2021학년도 입학정보공개 2022학년도 전형계획 원서접수 2021. 4. 12.(월) 10:00 ~ 5. 6\n",
      "======================================================================\n",
      "한양대학교 - 나무위키 https://namu.wiki/w/%ED%95%9C%EC%96%91%EB%8C%80%ED%95%99%EA%B5%90\n",
      "설립자 김연준 박사는 개신교 신자이지만, 학교법인 한양학원은 일반적인 학교 법인이다. 즉 한양대학교는 선교를 목적으로 설립된 미션스쿨이 아니라는 뜻. 다만 기독교한국침례회에서 한양대 교목을 파송하며 침례회 계열 재단으로 분류된다. ITBT에 채플이 있으며, 예배 등의 종교행사를 한다. 물론 참석은 자유이고 모르는 학생들이 더 많다. 3.2.... ACL한양대학교 최근...\n",
      "======================================================================\n",
      "한양메일 http://hmail.hanyang.ac.kr/\n",
      "첨부파일 다운로드/업로드 오류 해결 2017/09/20 15:57:30 각종 FAQ 안내 2013/05/20 09:27:35 <휴면 계정 해제 방법 매뉴얼 보기>, <기타 메일 문의(메일 송수신 등) : 한양인포털 > 온라인민원 신청하세요.> 서울캠퍼스 [04763] 서울시 성동구 왕십리로 222 TEL 02-2220-0114. ERICA캠퍼스 [15588] 경기도 안산시 상록구 한양대학로 55 TEL 031-400-5114\n",
      "======================================================================\n"
     ]
    }
   ],
   "source": [
    "soup = BeautifulSoup(res.content, 'html.parser', from_encoding='UTF-8')\n",
    "\n",
    "# class 이름을 가지는 object를 모두 가지고 오는 구문\n",
    "# 처음 묶음이 되는 class를 찾고 이후 하위 HTML object를 찾아 내려온다\n",
    "name_tags = soup.select('.sp_ntotal > div > ul > li')\n",
    "\n",
    "for name_tag in name_tags:\n",
    "    title_tag = name_tag.select('.link_tit')[0]\n",
    "    content_tag = name_tag.select('.dsc_txt')[0]\n",
    "    print(title_tag.text.strip(), title_tag.get('href'))\n",
    "    print(content_tag.text.strip())\n",
    "    print('='*70)\n"
   ]
  },
  {
   "cell_type": "code",
   "execution_count": 3,
   "id": "green-leave",
   "metadata": {},
   "outputs": [
    {
     "name": "stdout",
     "output_type": "stream",
     "text": [
      "중,고등학교 자퇴하고 검정고시 패스 이후 한양대학교 갈수 있나요? 중2 인데 최근들어 학교에 있는 시간이 아깝고 내 인생에 불필요한 시간이다라는 생각과 학교에 있으면서 대인관계 스트레스 때문에 학교를 자퇴하려고 합니다 혹시 중학교 고등학교 검정고시 치고 수능쳐서 한양대학교 갈 수 있나요??????? https://kin.naver.com/qna/detail.nhn?d1id=11&dirId=1121&docId=385163157&qb=7ZWc7JaR64yA7ZWZ6rWQ&enc=utf8§ion=kin.ext&rank=1&search_sort=0&spq=0\n",
      "... 정확하고 확실하고 끝까지 책임지는 플래너 윤슬입니다 * 중2 인데 최근들어 학교에 있는 시간이 아깝고 내 인생에 불필요한 시간이다라는 생각과 학교에 있으면서 대인관계 스트레스 때문에 학교를 자퇴하려고 합니다 혹시 중학교 고등학교 검정고시 치고 수능쳐서 한양대학교 갈 수 있나요??...\n",
      "2021.03.22.\n",
      "----------------------------------------------------------------------\n",
      "한양대학교 입시원서 한양대학교에 입학원서 최대 몇갸까지 넣을 수 있나요? 일반적인 대학에는 입학원서 최대 몇개까지 가능한가요? https://kin.naver.com/qna/detail.nhn?d1id=11&dirId=110408&docId=376066536&qb=7ZWc7JaR64yA7ZWZ6rWQ&enc=utf8§ion=kin.ext&rank=2&search_sort=0&spq=0\n",
      "안녕하세요. 광릉한샘기숙학원 대학진학연구소입니다. 한양대 정시 가/나군에서 모집하니 최대 2번까지 지원 가능합니다. 중앙대 정시는 가/나/다군에서 모집하니 최대 3번 서강대는 가군에서만 모집하니 최대 1번 가능합니다.\n",
      "2020.12.17.\n",
      "----------------------------------------------------------------------\n",
      "한양대학교 수시 한양대학교 음악대학을 수시로 보려하는데요 한부모 가정인데 한부모가정은 입시전형이 다른가요?? 만약 다르면 어떻게 다른지 자세히 설명해주세요 ㅠㅜ https://kin.naver.com/qna/detail.nhn?d1id=11&dirId=110408&docId=382988642&qb=7ZWc7JaR64yA7ZWZ6rWQ&enc=utf8§ion=kin.ext&rank=3&search_sort=0&spq=0\n",
      "한양대학교 홈페이지 들어가셔서 모집요강에 보시면 전형 들이 다 나와있어요! 거기서 보시면 정확히 보실 수 있습니다^^\n",
      "2021.02.25.\n",
      "----------------------------------------------------------------------\n"
     ]
    },
    {
     "data": {
      "text/plain": [
       "\"\\nimport datetime\\n\\n# Case 1\\ndate_obj = datetime.datetime.striptime(date_tag.text.strip(), '%Y.%m.%d.')\\nprint(date_obj.year, date_obj.month, date_obj.day)\\n\\n# Case 2\\ndate_text = date_tag.text.strip()\\ndate_arr =. date_text[:-1].split('.')\\n\""
      ]
     },
     "execution_count": 3,
     "metadata": {},
     "output_type": "execute_result"
    }
   ],
   "source": [
    "# 지식-in partial analysis\n",
    "\n",
    "kin_tags = soup.select('.sp_nkin > div > ul > li')\n",
    "\n",
    "for kin_tag in kin_tags:\n",
    "    title_tag = kin_tag.select('.question_text')[0]\n",
    "    answer_tag = kin_tag.select('.answer_text')[0]\n",
    "    date_tag = kin_tag.select('.desc')[0]\n",
    "    print(title_tag.text.strip(), title_tag.get('href'))\n",
    "    print(answer_tag.text.strip())\n",
    "    print(date_tag.text.strip())\n",
    "    print('-' * 70)\n",
    "\n",
    "# 이후 date time을 파싱하는 방법론을 remind..\n",
    "\n",
    "'''\n",
    "import datetime\n",
    "\n",
    "# Case 1\n",
    "date_obj = datetime.datetime.striptime(date_tag.text.strip(), '%Y.%m.%d.')\n",
    "print(date_obj.year, date_obj.month, date_obj.day)\n",
    "\n",
    "# Case 2\n",
    "date_text = date_tag.text.strip()\n",
    "date_arr =. date_text[:-1].split('.')\n",
    "'''"
   ]
  },
  {
   "cell_type": "code",
   "execution_count": 4,
   "id": "german-techno",
   "metadata": {},
   "outputs": [
    {
     "name": "stdout",
     "output_type": "stream",
     "text": [
      "한양대학교 편입 어떻게 하는게 좋을까요 https://blog.naver.com/hsg1615/222326526182\n",
      "3학년 한양대 편입에 성공해 입학을 할 수 있었던 계기가 되었습니다~ 하지만 한양대학교 편입은 학력만... 즉, 대학교 점수관리는 부과적인 것이고 비율이 높은건 영어와 수학 그리고 면접인거 같습니다 그렇기에...\n",
      "['#한양대학교', '#편입']\n",
      "https://search.pstatic.net/common/?src=http%3A%2F%2Fblogfiles.naver.net%2FMjAyMTA0MjhfNSAg%2FMDAxNjE5NjA2NDk3NjUx.8J4G8n_oaLdRDmY4bocayE94JsFwSRPQjFB2XYOGk60g.Jgp62-Cou4v0D4Q-oCJSSZFOSWD6mhBVrbaUycyD4ocg.PNG.hsg1615%2F1.png%23600x500&type=ff264_180\n",
      "2021-04-28\n",
      "한양대학교 정시등급 (2020) https://blog.naver.com/kmimi77/222198402604\n",
      "있는 대학교 입니다. 한양대학교 정시등급에 앞서 학교 특징 알아 보고 있습니다. 이러한 결과가 가능한... 창단해 한양의 건학 정신인 '사랑의실천'을 구현하고 대학의 사회적 책임을 다하는 지성인을 양성하고...\n",
      "['#한양대학교', '#한양대학교정시등급']\n",
      "https://search.pstatic.net/common/?src=http%3A%2F%2Fblogfiles.naver.net%2FMjAyMTAxMDZfMTA1%2FMDAxNjA5OTEyMTE1NzUy.Vau71zyYIgs3w5aknJEQ-KYv7D0XjBAgB825jo1yEmkg.jgQdZd_H8JjA2wGKcDZgSGJL9IgNQ-x5XdfLhP9xi-8g.PNG.kmimi77%2F%25C7%25D1%25BE%25E7%25B4%25EB%25C7%25D0%25B1%25B3.png%23325x285&type=ff264_180\n",
      "2021-01-06\n",
      "한양대학교 교육대학원 합격? 저처럼만 하세요 https://blog.naver.com/dabin8897/222324179166\n",
      "그러다가 발견한게 한양대학교 교육대학원이었어요. 지리상 저희 집과도 가깝고 현역시절에도 한양대가 목표였던 적이 있었기 때문에 한양대로 목표를 정하게 되었죠. 모집요강을 보니까 교원양성과정이라고 석사학위와...\n",
      "['#한양대학교', '#한양대학교정시등급']\n",
      "https://search.pstatic.net/common/?src=http%3A%2F%2Fblogfiles.naver.net%2FMjAyMTA0MjZfMjg3%2FMDAxNjE5NDQ0OTI2MTY4.ED_E85RGC0KgDvmCnXYXnYYidtd1JRTwVoTLbM2JVwcg.1hgAjpM8pwN78TMveZ1MmWkeM0CzT44MQQm5RMduwaQg.PNG.dabin8897%2F%253F%2595%259C%253F%2596%2591%253F%253F%253F%2595%2599%25EA%25B5%253F_%25EA%25B5%2590%25EC%259C%25A1%253F%253F%253F%2595%2599%253F%259B%2590_%25281%2529.png%23800x800&type=ff264_180\n",
      "2021-04-26\n",
      "전문상담교사 한양대학교 상담심리교육대학원 4개월 공부후기 https://blog.naver.com/comet0424/222271145835\n",
      "안녕하세요 한양대학교 상담심리교육대학원 입학을 하여 현재 다니고 있는 대학원생입니다 요즘... 저는 대학교 졸업 후 승무원으로 일을하다가 예전부터 안정적인 직업을 얻고 싶어서 생각하고 있던 상담교사에 대해...\n",
      "['#한양대학교', '#한양대학교정시등급']\n",
      "https://search.pstatic.net/common/?src=http%3A%2F%2Fblogfiles.naver.net%2FMjAyMTAzMTBfMTQ0%2FMDAxNjE1Mzc2NjcwMjAz.OZ7k_sZjdfZlla3QqAkXjW3bBoYP3HZPjIqXNV0cMqwg.GZEzAJSf2ZUFBSKBa3VeAmNChrjQHauixQ65HsHVOX4g.JPEG.comet0424%2FIMG_7442.JPG%23568x756&type=ff264_180\n",
      "2021-03-10\n",
      "한양대학교 편입, 고졸도 가능해요! https://blog.naver.com/som0601/222331127362\n",
      "전형인지 한양대 모집요강을 살펴봤어요 한양대학교 편입은 일반이랑 학사로 나눠져 있었는데 지원자격이 달랐어요 일반은 2년제 전문대를 졸업하거나 4년제 대학을 2학년 2학기까지 수료를 한 사람이 지원할 수 있었고...\n",
      "['#한양대학교편입']\n",
      "https://search.pstatic.net/common/?src=http%3A%2F%2Fblogfiles.naver.net%2FMjAyMTA1MDFfMjU4%2FMDAxNjE5ODY5NzA1NjAz.Oe8F1SGbl7MVUSKWlvq1N7kdJsQr4AFWGW3YsxdsdaEg._jYPLHzJq4MVc7FMKJxwiK78oA7AxpZUqQZJhae-zYAg.PNG.som0601%2F%25BD%25E6%25B3%25D7%25C0%25CF-004.png%23800x800&type=ff264_180\n",
      "2021-04-12\n",
      "한양대학교편입 정보 분석하고 편입성공하기 https://blog.naver.com/ds1lkc/222292350358\n",
      "한양대학교는 사립 종합대학교에요. 본교인 서울캠퍼스는 서울특별시 성동구에 위치해 있으며 분교인 에리카캠퍼스는 경기도 안산시에 위치해 있답니다. 캠퍼스 간 전과제도는 한시적으로 운영된 바 있으나 15학번...\n",
      "['#한양대학교편입', '#한양대편입', '#대학편입', '#한양대경쟁률', '#2022한양대학교']\n",
      "https://search.pstatic.net/common/?src=http%3A%2F%2Fblogfiles.naver.net%2FMjAyMTAzMzBfMTUz%2FMDAxNjE3MDY3ODI0MTgy.PWcs5GlY3WFaOvNGddxwdO5aSYzLroJYINrNhSXAbkAg.Li12NmCcA966BSMJcrw5VX-IcNofQMo93aDkZL_bQ9Yg.JPEG.ds1lkc%2Fbatch_1.jpg%23400x400&type=ff264_180\n",
      "2021-03-30\n",
      "한양대학교 체육학과, 편입으로 3학년 입학하는 방법?! https://blog.naver.com/kym8220/222316050584\n",
      "다만 인서울권에 있는 대학교인 만큼 경쟁률을 생각하지 않을 수 없죠. 이럴 땐 일반 재수 과정 보다... 한양대 편입 / 입시 준비 기간 한양대학교 체육학과 편입에는 각 전형에 맞는 학위가 필요하고 최종 학력과 준비...\n",
      "['#한양대학교체육학과', '#편입', '#학점은행제']\n",
      "https://search.pstatic.net/common/?src=http%3A%2F%2Fblogfiles.naver.net%2FMjAyMTA0MTlfNzQg%2FMDAxNjE4ODQzMjIwOTgw.dmb3fULVoRJehtk-yzXI8Ugdx--HmljGedkHZ4vMqfog.ZlfittPoZNx1RoBtuDdAJo6Igb57-Hv7RAzdkHtHH98g.PNG.kym8220%2F%2528%25C0%25CC%25B9%25CC%25C1%25F61%2529.png%231080x1080&type=ff264_180\n",
      "2021-04-19\n",
      "한양대학교 편입 아무것도 없이 시작 https://blog.naver.com/xpn9fsmean/222294036339\n",
      "저는 올해부터 한양대에 다니게 된 이0훈이라고 합니다. 한양대학교 편입 학사전형을 통해 학교에 들어가게... 관리도 잘 해주시고 대학교에 대한 정보도 많이 얻을 수 있었고 편입 지원 서류도 검토해 주셔서 도움이 많이...\n",
      "['#한양대학교편입']\n",
      "https://search.pstatic.net/common/?src=http%3A%2F%2Fblogfiles.naver.net%2FMjAyMTAzMzFfMjAy%2FMDAxNjE3MTg0MTg0MjA4.FJ-cWIfIKSlnXA130CR-FMUtmayr5X3W5X9YaUULU20g.Z0Au0dIlk_OQFMLObJmxtpm5-ZkfOVLpiCf0se_YpQwg.PNG.xpn9fsmean%2F11.png%231080x1080&type=ff264_180\n",
      "2021-03-31\n",
      "[생생인터뷰] 잠실여고 졸업생 한양대학교 국제학부 합격후기 https://blog.naver.com/dldbstjd282/222315530277\n",
      "오늘의 이지수능교육 2021 장학생은 한양대학교 국제학부에 합격한 잠실여고 졸업생입니다. 잠실여고는 1982년... 그럼 이제 잠실여고 졸업생 선배의 생생인터뷰 합격후기(한양대학교 국제학부)를 만나보시죠! 2021...\n",
      "['#이지수능교육', '#장학생', '#합격후기', '#합격수기', '#한양대학교', '#국제학부', '#잠실여고']\n",
      "https://search.pstatic.net/common/?src=http%3A%2F%2Fblogfiles.naver.net%2FMjAyMTA0MTlfNzQg%2FMDAxNjE4ODEzNzcwNTAx.sbSHVTSxWGKM8dE-st9xhzs3uYnD-TAjMnenojWHOikg.cQSiRbfNEaZshvlDDtB73yahikwF9ECyXhUek8dQtBYg.PNG.dldbstjd282%2Ftyle-kgr-03-1618813553.png%23900x900&type=ff264_180\n",
      "2021-04-19\n"
     ]
    }
   ],
   "source": [
    "import os\n",
    "import datetime\n",
    "# regular expression\n",
    "import re\n",
    "\n",
    "# View partial analysis include sumnail(image)\n",
    "view_tags = soup.select('.sp_nreview > div > div > panel-list > div > ul > li')\n",
    "\n",
    "img_idx = 1\n",
    "for view_tag in view_tags:\n",
    "    title_tag = view_tag.select('.total_tit')[0]\n",
    "    content_tag = view_tag.select('.dsc_txt')[0]\n",
    "    area_tag = view_tag.select('.total_tag_area')\n",
    "    # if total_tag_area isn't exist.\n",
    "    if area_tag:\n",
    "        area_tag = area_tag[0]\n",
    "        \n",
    "        tags = area_tag.select('span')\n",
    "        #tag_list = []\n",
    "        #for tag in tags:\n",
    "        #    tag_list.append(tag.text)\n",
    "        \n",
    "        # Using 진행형 리스트.. (영어로는 뭐라고 하지.. doing..???)\n",
    "        tag_list = [tag.text for tag in tags]\n",
    "        tag_text = ','.join(tag_list)\n",
    "    \n",
    "    # 먼저 폴더를 만들어야 하나?.. 만들어야하네\n",
    "    if img_idx <= 4:\n",
    "        os.makedirs('first', exist_ok=True)\n",
    "        path = os.path.join('first', str(img_idx) + '.png')\n",
    "    else:\n",
    "        os.makedirs('second', exist_ok=True)\n",
    "        path = os.path.join('second', str(img_idx) + '.png')\n",
    "        \n",
    "    img_tag = view_tag.select('.thumb_fix .thumb')[0]\n",
    "    img_res = requests.get(img_tag.get('src'))\n",
    "    with open(path, 'wb') as f:\n",
    "        f.write(img_res.content)\n",
    "    \n",
    "    date_tag = view_tag.select('.sub_time')[0]\n",
    "    date_text = date_tag.text.strip()\n",
    "    \n",
    "    if '전' in date_text:\n",
    "        #date_text = date_text.replace('일 전', '')\n",
    "        date_text = re.findall(\"\\d+\", date_text)\n",
    "        now = datetime.datetime.now()\n",
    "        now -= datetime.timedelta(days=int(date_text[0]))\n",
    "        date_text = now.strftime('%Y-%m-%d')\n",
    "    else:\n",
    "        tmp_date = datetime.datetime.strptime(date_text, '%Y.%m.%d.')\n",
    "        date_text = tmp_date.strftime('%Y-%m-%d')\n",
    "    \n",
    "    print(title_tag.text.strip(), title_tag.get('href'))\n",
    "    print(content_tag.text.strip())\n",
    "    print(tag_list)\n",
    "    print(img_tag.get('src'))\n",
    "    print(date_text)\n",
    "    \n",
    "    img_idx += 1"
   ]
  },
  {
   "cell_type": "code",
   "execution_count": 5,
   "id": "protecting-richmond",
   "metadata": {},
   "outputs": [
    {
     "name": "stdout",
     "output_type": "stream",
     "text": [
      "성동구, 한양대와 협력 창업도약 혁신기업 100억원 지원 https://view.asiae.co.kr/article/2021043006583379102\n",
      "성동구(구청장 정원오)는 내년까지 한양대(총장 김우승)과 손잡고 60여 개의 인공지능(AI) 등 4차 산업혁명... 한양대와 컨소시엄 기관으로 참여한 성동구는 이번 신규주관 기관 모집 중 유일하게 선정된 관·학 협력사업...\n",
      "아시아경제\n",
      "24세 의대생이 만든 원격진료앱 '돌풍'…코로나시대에 통했네 https://www.hankyung.com/society/article/202105029112i\n",
      "한양대 의예과에 재학 중인 장지호 대표(사진)가 주인공이다. 장 대표는 \"코로나19로 국내에서도 사실상... 2016년 한양대 의대에 입학한 장 대표는 2019년부터 본격적인 창업 준비를 시작했다. 사업 아이디어는 오래전부터...\n",
      "한국경제\n",
      "KAIST·한양대, 암 면역 치료 돕는 펩타이드 유도체 개발 http://yna.kr/AKR20210427039400063?did=1195m\n",
      "\"면역 관문 억제제와 병용 투여해 낮은 반응률 높여\" 한국과학기술원(KAIST) 김유천 교수와 한양대 윤채옥 교수 연구팀은 암 면역 치료를 돕는 펩타이드(아미노산 중합체) 기반 세포 사멸 유도체를 개발했다고 27일...\n",
      "연합뉴스\n",
      "안산시상록장애인복지관, 한양대학교 스포츠과학부와 업무 협약 체결 http://www.incheonilbo.com/news/articleView.html?idxno=1092649\n",
      "안산시상록장애인복지관은 한양대학교 스포츠과학부와 장애인 친화적인 환경을 구축하기 위한 업무 협약을... 한양대학교 스포츠과학부 박재우 교수는 \"이번 기회를 통해 함께 운동하고 땀 흘리면서 학생들이 장애인...\n",
      "인천일보\n"
     ]
    }
   ],
   "source": [
    "# New tab analysis\n",
    "news_tags = soup.select('.list_news > li')\n",
    "\n",
    "for news_tag in news_tags:\n",
    "    title_tag = news_tag.select('.news_tit')[0]\n",
    "    content_tag = news_tag.select('.dsc_txt_wrap')[0]\n",
    "    press_tag = news_tag.select('.info_group .press')[0]\n",
    "    # Tag string 예외처리 방안\n",
    "    delete_tag = 'aaaa'\n",
    "    \n",
    "    print(title_tag.text.strip(), title_tag.get('href'))\n",
    "    print(content_tag.text.strip())\n",
    "    print(press_tag.text.strip().replace(delete_tag, ''))"
   ]
  }
 ],
 "metadata": {
  "kernelspec": {
   "display_name": "Python 3",
   "language": "python",
   "name": "python3"
  },
  "language_info": {
   "codemirror_mode": {
    "name": "ipython",
    "version": 3
   },
   "file_extension": ".py",
   "mimetype": "text/x-python",
   "name": "python",
   "nbconvert_exporter": "python",
   "pygments_lexer": "ipython3",
   "version": "3.8.5"
  }
 },
 "nbformat": 4,
 "nbformat_minor": 5
}
