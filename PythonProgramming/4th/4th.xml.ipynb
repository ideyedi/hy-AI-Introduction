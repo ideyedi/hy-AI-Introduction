{
 "cells": [
  {
   "cell_type": "code",
   "execution_count": 1,
   "id": "stopped-pearl",
   "metadata": {},
   "outputs": [
    {
     "name": "stdout",
     "output_type": "stream",
     "text": [
      "[<Element 'student' at 0x7f09906d4e50>, <Element 'student' at 0x7f0990672b80>]\n",
      "A {'subject': 'C/C++'} C/C++\n",
      "B {'subject': 'python'} python\n"
     ]
    }
   ],
   "source": [
    "# Parsing XML file method\n",
    "from xml.etree.ElementTree import parse\n",
    "\n",
    "tree = parse('data.xml')\n",
    "root = tree.getroot()\n",
    "\n",
    "students = root.findall('student')\n",
    "print(students)\n",
    "\n",
    "for student in students:\n",
    "    name = student.findtext('grade')\n",
    "    attr = student.find('grade').attrib\n",
    "    # No subject is pre-define string for undefined value\n",
    "    subject = attr.get('subject', 'No subject')\n",
    "    print(name, attr, subject)"
   ]
  },
  {
   "cell_type": "code",
   "execution_count": 2,
   "id": "juvenile-geography",
   "metadata": {},
   "outputs": [],
   "source": [
    "# First class end ------------------------------"
   ]
  },
  {
   "cell_type": "code",
   "execution_count": 20,
   "id": "framed-thing",
   "metadata": {},
   "outputs": [
    {
     "name": "stdout",
     "output_type": "stream",
     "text": [
      "[{'name': 'eyedi', 'lab': 'MLlab', 'grade': 'A'}, {'name': 'eunseok', 'lab': 'Networklab', 'grade': 'B'}]\n",
      "eyedi MLlab A\n",
      "eunseok Networklab B\n"
     ]
    }
   ],
   "source": [
    "# Parsing JSON file method\n",
    "import json\n",
    "\n",
    "f = open('data.json', 'r')\n",
    "txt = f.read()\n",
    "f.close()\n",
    "data = json.loads(txt)\n",
    "print(data)\n",
    "#print(data['students'][0])\n",
    "\n",
    "for item in data:\n",
    "    name = item.get('name')\n",
    "    lab = item.get('lab')\n",
    "    grade = item.get('grade')\n",
    "    print(name, lab, grade)"
   ]
  },
  {
   "cell_type": "code",
   "execution_count": 24,
   "id": "selective-mountain",
   "metadata": {},
   "outputs": [
    {
     "name": "stdout",
     "output_type": "stream",
     "text": [
      "[\n",
      "    {\n",
      "        \"name\": \"Eunseok Ji\",\n",
      "        \"lab\": \"MLlab\",\n",
      "        \"grade\": \"A\"\n",
      "    },\n",
      "    {\n",
      "        \"name\": \"eunseok\",\n",
      "        \"lab\": \"Networklab\",\n",
      "        \"grade\": \"B\"\n",
      "    }\n",
      "]\n"
     ]
    }
   ],
   "source": [
    "data[0]['name'] = 'Eunseok Ji'\n",
    "\n",
    "#save method\n",
    "# 1. file method, 2. string method\n",
    "json_result = json.dumps(data, indent=4)\n",
    "print(json_result)\n",
    "f = open('student.json', 'w')\n",
    "f.write(json_result)\n",
    "f.close()"
   ]
  },
  {
   "cell_type": "code",
   "execution_count": null,
   "id": "bottom-gibson",
   "metadata": {},
   "outputs": [],
   "source": []
  }
 ],
 "metadata": {
  "kernelspec": {
   "display_name": "Python 3",
   "language": "python",
   "name": "python3"
  },
  "language_info": {
   "codemirror_mode": {
    "name": "ipython",
    "version": 3
   },
   "file_extension": ".py",
   "mimetype": "text/x-python",
   "name": "python",
   "nbconvert_exporter": "python",
   "pygments_lexer": "ipython3",
   "version": "3.9.2"
  }
 },
 "nbformat": 4,
 "nbformat_minor": 5
}
