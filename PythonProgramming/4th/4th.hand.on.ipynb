{
 "cells": [
  {
   "cell_type": "code",
   "execution_count": 1,
   "id": "convenient-reach",
   "metadata": {},
   "outputs": [],
   "source": [
    "import numpy as np\n",
    "import pandas as pd\n",
    "import json\n",
    "from xml.etree.ElementTree import parse"
   ]
  },
  {
   "cell_type": "code",
   "execution_count": 2,
   "id": "supposed-titanium",
   "metadata": {},
   "outputs": [
    {
     "name": "stdout",
     "output_type": "stream",
     "text": [
      "Liechtenstein \n",
      "Singapore \n",
      "Panama \n",
      " New York\n",
      " Boston\n"
     ]
    }
   ],
   "source": [
    "# XML parsing\n",
    "# attrib   : Get attribute\n",
    "# findtext : Get text info\n",
    "# findall  : Get all info, return list\n",
    "tree = parse('handon.xml')\n",
    "root = tree.getroot()\n",
    "ls = root.findall('info')\n",
    "\n",
    "for item in ls:\n",
    "    print(item.findtext('country'), item.findtext('city'))"
   ]
  },
  {
   "cell_type": "code",
   "execution_count": 5,
   "id": "breeding-glory",
   "metadata": {},
   "outputs": [
    {
     "name": "stdout",
     "output_type": "stream",
     "text": [
      "Liechtenstein\n",
      "Singapore\n",
      "Panama\n",
      "-\n",
      "-\n"
     ]
    }
   ],
   "source": [
    "# JSON parsing\n",
    "with open('handon.json', 'r') as f:\n",
    "    f = open('handon.json', 'r')\n",
    "    dt_json = f.read()\n",
    "\n",
    "result = json.loads(dt_json)\n",
    "#result\n",
    "for item in result:\n",
    "    print(item.get('country', '-'))"
   ]
  },
  {
   "cell_type": "code",
   "execution_count": 10,
   "id": "billion-baptist",
   "metadata": {},
   "outputs": [
    {
     "name": "stdin",
     "output_type": "stream",
     "text": [
      " 3 4 2\n",
      " 1 2 3\n",
      " 3 4 5\n",
      " 5 6 7\n"
     ]
    },
    {
     "data": {
      "text/plain": [
       "(array([[1, 2, 3],\n",
       "        [3, 4, 5],\n",
       "        [5, 6, 7]]),\n",
       " (3, 3))"
      ]
     },
     "execution_count": 10,
     "metadata": {},
     "output_type": "execute_result"
    }
   ],
   "source": [
    "n, m, k = input().split()\n",
    "\n",
    "# p.s Method that make list to matrix\n",
    "# User input of entries in a \n",
    "# single line separated by space\n",
    "#entries = list(map(int, input().split()))  \n",
    "\n",
    "# For printing the matrix\n",
    "#matrix = np.array(entries).reshape(R, C)\n",
    "#print(matrix)\n",
    "n_mat = np.zeros([int(n), int(n)])\n",
    "\n",
    "# input matrix\n",
    "#for i in range(int(n)):\n",
    "#    n_mat[i] = list(map(int, input().split()))\n",
    "# wow \n",
    "input_array = [[int(x) for x in input().split()] for _ in range(int(n))]\n",
    "mat = np.array(input_array, dtype='int64')\n",
    "# print method\n",
    "mat, mat.shape\n",
    "\n",
    "# make cross matrix\n",
    "# for idx in range(int(m)):\n",
    "#     for idy in range(int(m)):\n",
    "        \n",
    "# traverse for find k-matrix which is maxium sumation"
   ]
  },
  {
   "cell_type": "code",
   "execution_count": 16,
   "id": "stable-departure",
   "metadata": {},
   "outputs": [
    {
     "data": {
      "text/plain": [
       "(array([[1., 2., 3., 1., 2., 3., 1., 2., 3., 0., 0., 0.],\n",
       "        [3., 4., 5., 3., 4., 5., 3., 4., 5., 0., 0., 0.],\n",
       "        [5., 6., 7., 5., 6., 7., 5., 6., 7., 0., 0., 0.],\n",
       "        [1., 2., 3., 1., 2., 3., 1., 2., 3., 0., 0., 0.],\n",
       "        [3., 4., 5., 3., 4., 5., 3., 4., 5., 0., 0., 0.],\n",
       "        [5., 6., 7., 5., 6., 7., 5., 6., 7., 0., 0., 0.],\n",
       "        [1., 2., 3., 1., 2., 3., 1., 2., 3., 0., 0., 0.],\n",
       "        [3., 4., 5., 3., 4., 5., 3., 4., 5., 0., 0., 0.],\n",
       "        [5., 6., 7., 5., 6., 7., 5., 6., 7., 0., 0., 0.],\n",
       "        [0., 0., 0., 0., 0., 0., 0., 0., 0., 1., 2., 3.],\n",
       "        [0., 0., 0., 0., 0., 0., 0., 0., 0., 3., 4., 5.],\n",
       "        [0., 0., 0., 0., 0., 0., 0., 0., 0., 5., 6., 7.]]),\n",
       " (12, 12),\n",
       " dtype('float64'))"
      ]
     },
     "execution_count": 16,
     "metadata": {},
     "output_type": "execute_result"
    }
   ],
   "source": [
    "data = np.zeros([int(n)*int(m), int(n)*int(m)])\n",
    "\n",
    "for i in range(int(m)):\n",
    "    for j in range(int(m)):\n",
    "        if ((i//int(n)))%2 == (j//int(n))%2:\n",
    "            data[i*int(n):(i+1)*int(n), j*int(n):(j+1)*int(n)] = mat\n",
    "\n",
    "data, data.shape, data.dtype"
   ]
  },
  {
   "cell_type": "code",
   "execution_count": 9,
   "id": "serial-boring",
   "metadata": {},
   "outputs": [
    {
     "data": {
      "text/plain": [
       "(22.0, [[1, 1], [4, 4]])"
      ]
     },
     "execution_count": 9,
     "metadata": {},
     "output_type": "execute_result"
    }
   ],
   "source": [
    "big_n, big_m = data.shape\n",
    "max_sum = 0\n",
    "idx_list = []\n",
    "for i in range(big_n - int(k) + 1):\n",
    "    for j in range(big_m - int(k) + 1):\n",
    "        mat_sum = data[i:i+int(k), j:j+int(k)].sum()\n",
    "        \n",
    "        if max_sum < mat_sum:\n",
    "            max_sum = mat_sum\n",
    "            idx_list = []\n",
    "            idx_list.append([i, j])\n",
    "        elif max_sum == mat_sum:\n",
    "            idx_list.append([i, j])\n",
    "\n",
    "max_sum, idx_list"
   ]
  },
  {
   "cell_type": "code",
   "execution_count": null,
   "id": "refined-poverty",
   "metadata": {},
   "outputs": [],
   "source": []
  }
 ],
 "metadata": {
  "kernelspec": {
   "display_name": "Python 3",
   "language": "python",
   "name": "python3"
  },
  "language_info": {
   "codemirror_mode": {
    "name": "ipython",
    "version": 3
   },
   "file_extension": ".py",
   "mimetype": "text/x-python",
   "name": "python",
   "nbconvert_exporter": "python",
   "pygments_lexer": "ipython3",
   "version": "3.8.5"
  }
 },
 "nbformat": 4,
 "nbformat_minor": 5
}
