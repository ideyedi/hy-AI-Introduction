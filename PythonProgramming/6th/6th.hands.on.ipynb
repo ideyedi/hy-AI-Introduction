{
 "cells": [
  {
   "cell_type": "code",
   "execution_count": 2,
   "id": "grateful-granny",
   "metadata": {},
   "outputs": [],
   "source": [
    "import pandas as pd\n",
    "import numpy as np\n",
    "\n",
    "df = pd.read_csv('adult.data.csv')\n",
    "#df"
   ]
  },
  {
   "cell_type": "code",
   "execution_count": 3,
   "id": "sound-pixel",
   "metadata": {},
   "outputs": [
    {
     "data": {
      "text/plain": [
       "age                int64\n",
       "workclass         object\n",
       "fnlwgt             int64\n",
       "education         object\n",
       "education-num      int64\n",
       "marital-status    object\n",
       "occupation        object\n",
       "relationship      object\n",
       "race              object\n",
       "sex               object\n",
       "capital-gain       int64\n",
       "capital-loss       int64\n",
       "hours-per-week     int64\n",
       "native-country    object\n",
       "salary            object\n",
       "dtype: object"
      ]
     },
     "execution_count": 3,
     "metadata": {},
     "output_type": "execute_result"
    }
   ],
   "source": [
    "df.dtypes"
   ]
  },
  {
   "cell_type": "code",
   "execution_count": 19,
   "id": "continental-yukon",
   "metadata": {},
   "outputs": [
    {
     "data": {
      "text/plain": [
       "Male      21790\n",
       "Female    10771\n",
       "Name: sex, dtype: int64"
      ]
     },
     "execution_count": 19,
     "metadata": {},
     "output_type": "execute_result"
    }
   ],
   "source": [
    "# problem 1. 테이블의 남자와 여자의 수\n",
    "# count만 보여주고 싶은데 조교는 어찌 하려나..\n",
    "df.groupby('sex').age.count()\n",
    "\n",
    "# .... 엄청 쉽게 푸네\n",
    "df['sex'].value_counts()"
   ]
  },
  {
   "cell_type": "code",
   "execution_count": 20,
   "id": "congressional-guidance",
   "metadata": {},
   "outputs": [
    {
     "data": {
      "text/plain": [
       "36.85823043357163"
      ]
     },
     "execution_count": 20,
     "metadata": {},
     "output_type": "execute_result"
    }
   ],
   "source": [
    "# Problem 2. 남녀 나이 평균\n",
    "df.groupby('sex').age.mean()\n",
    "\n",
    "# 조교 풀이\n",
    "df[df['sex'] == 'Female']['age'].mean()"
   ]
  },
  {
   "cell_type": "code",
   "execution_count": 21,
   "id": "seventh-communication",
   "metadata": {},
   "outputs": [
    {
     "data": {
      "text/plain": [
       "array(['United-States', 'Cuba', 'Jamaica', 'India', '?', 'Mexico',\n",
       "       'South', 'Puerto-Rico', 'Honduras', 'England', 'Canada', 'Germany',\n",
       "       'Iran', 'Philippines', 'Italy', 'Poland', 'Columbia', 'Cambodia',\n",
       "       'Thailand', 'Ecuador', 'Laos', 'Taiwan', 'Haiti', 'Portugal',\n",
       "       'Dominican-Republic', 'El-Salvador', 'France', 'Guatemala',\n",
       "       'China', 'Japan', 'Yugoslavia', 'Peru',\n",
       "       'Outlying-US(Guam-USVI-etc)', 'Scotland', 'Trinadad&Tobago',\n",
       "       'Greece', 'Nicaragua', 'Vietnam', 'Hong', 'Ireland', 'Hungary',\n",
       "       'Holand-Netherlands'], dtype=object)"
      ]
     },
     "execution_count": 21,
     "metadata": {},
     "output_type": "execute_result"
    }
   ],
   "source": [
    "a = df.groupby('native-country').count()\n",
    "#Germany\n",
    "\n",
    "# 데이터 확인 방법\n",
    "df['native-country'].unique()"
   ]
  },
  {
   "cell_type": "code",
   "execution_count": 22,
   "id": "satisfactory-switzerland",
   "metadata": {},
   "outputs": [
    {
     "data": {
      "text/plain": [
       "0.42074874850281013"
      ]
     },
     "execution_count": 22,
     "metadata": {},
     "output_type": "execute_result"
    }
   ],
   "source": [
    "# Problem 3. 독일 국적 사람의 비율\n",
    "tbl = df['native-country'].value_counts(normalize=True)*100\n",
    "tbl.Germany\n",
    "\n",
    "# 조교 풀이 + 내가 푼 풀이 방식도 설명해주네\n",
    "germany_count = df[df['native-country'] == 'Germany'].shape[0]\n",
    "entries_count = df.shape[0]\n",
    "germany_count / entries_count * 100"
   ]
  },
  {
   "cell_type": "code",
   "execution_count": 34,
   "id": "working-honduras",
   "metadata": {},
   "outputs": [
    {
     "data": {
      "text/html": [
       "<div>\n",
       "<style scoped>\n",
       "    .dataframe tbody tr th:only-of-type {\n",
       "        vertical-align: middle;\n",
       "    }\n",
       "\n",
       "    .dataframe tbody tr th {\n",
       "        vertical-align: top;\n",
       "    }\n",
       "\n",
       "    .dataframe thead th {\n",
       "        text-align: right;\n",
       "    }\n",
       "</style>\n",
       "<table border=\"1\" class=\"dataframe\">\n",
       "  <thead>\n",
       "    <tr style=\"text-align: right;\">\n",
       "      <th></th>\n",
       "      <th>count</th>\n",
       "      <th>mean</th>\n",
       "      <th>std</th>\n",
       "      <th>min</th>\n",
       "      <th>25%</th>\n",
       "      <th>50%</th>\n",
       "      <th>75%</th>\n",
       "      <th>max</th>\n",
       "    </tr>\n",
       "    <tr>\n",
       "      <th>salary</th>\n",
       "      <th></th>\n",
       "      <th></th>\n",
       "      <th></th>\n",
       "      <th></th>\n",
       "      <th></th>\n",
       "      <th></th>\n",
       "      <th></th>\n",
       "      <th></th>\n",
       "    </tr>\n",
       "  </thead>\n",
       "  <tbody>\n",
       "    <tr>\n",
       "      <th>&lt;=50K</th>\n",
       "      <td>24720.0</td>\n",
       "      <td>36.783738</td>\n",
       "      <td>14.020088</td>\n",
       "      <td>17.0</td>\n",
       "      <td>25.0</td>\n",
       "      <td>34.0</td>\n",
       "      <td>46.0</td>\n",
       "      <td>90.0</td>\n",
       "    </tr>\n",
       "    <tr>\n",
       "      <th>&gt;50K</th>\n",
       "      <td>7841.0</td>\n",
       "      <td>44.249841</td>\n",
       "      <td>10.519028</td>\n",
       "      <td>19.0</td>\n",
       "      <td>36.0</td>\n",
       "      <td>44.0</td>\n",
       "      <td>51.0</td>\n",
       "      <td>90.0</td>\n",
       "    </tr>\n",
       "  </tbody>\n",
       "</table>\n",
       "</div>"
      ],
      "text/plain": [
       "          count       mean        std   min   25%   50%   75%   max\n",
       "salary                                                             \n",
       "<=50K   24720.0  36.783738  14.020088  17.0  25.0  34.0  46.0  90.0\n",
       ">50K     7841.0  44.249841  10.519028  19.0  36.0  44.0  51.0  90.0"
      ]
     },
     "execution_count": 34,
     "metadata": {},
     "output_type": "execute_result"
    }
   ],
   "source": [
    "# Problem 4. 연 소득 50K 이상인 사람들의 평균과 표준편차를 출력, 연 소득이 50K 미만인 사람들의 평균과 표준편차 출력\n",
    "df[df['fnlwgt'] >= 50*1024]['fnlwgt'].mean()\n",
    "\n",
    "# feature 잘못 봤네..\n",
    "df['salary'].unique()\n",
    "t1 = df.loc[df['salary'] == '>50K', 'age']\n",
    "t2 = df.loc[df['salary'] == '<=50K', 'age']\n",
    "t1.mean(), t1.std(), t2.mean(), t2.std()\n",
    "\n",
    "# 다른 솔루션\n",
    "df.groupby('salary')['age'].describe()"
   ]
  },
  {
   "cell_type": "code",
   "execution_count": 38,
   "id": "prompt-transport",
   "metadata": {},
   "outputs": [
    {
     "name": "stdout",
     "output_type": "stream",
     "text": [
      "Not All ture\n"
     ]
    },
    {
     "data": {
      "text/plain": [
       "array(['HS-grad', 'Masters', 'Bachelors', 'Some-college', 'Assoc-voc',\n",
       "       'Doctorate', 'Prof-school', 'Assoc-acdm', '7th-8th', '12th',\n",
       "       '10th', '11th', '9th', '5th-6th', '1st-4th'], dtype=object)"
      ]
     },
     "execution_count": 38,
     "metadata": {},
     "output_type": "execute_result"
    }
   ],
   "source": [
    "# Problem 5. 연 소득 50K이상인 사람들은 고등교육 이상 교육을 받았는지\n",
    "tmp = df[df['salary'] == '>50K']['education-num'] > 8\n",
    "if tmp.all() == True:\n",
    "    print('All data true')\n",
    "else:\n",
    "    print('Not All ture')\n",
    "    \n",
    "# 조교 풀이\n",
    "df[df['salary'] == '>50K']['education'].unique()"
   ]
  },
  {
   "cell_type": "code",
   "execution_count": 47,
   "id": "backed-brooklyn",
   "metadata": {
    "scrolled": true,
    "tags": []
   },
   "outputs": [
    {
     "name": "stdout",
     "output_type": "stream",
     "text": [
      "Race: Amer-Indian-Eskimo, Sex: Female\n",
      "count    119.000000\n",
      "mean      37.117647\n",
      "std       13.114991\n",
      "min       17.000000\n",
      "25%       27.000000\n",
      "50%       36.000000\n",
      "75%       46.000000\n",
      "max       80.000000\n",
      "Name: age, dtype: float64\n",
      "\n",
      "Race: Amer-Indian-Eskimo, Sex: Male\n",
      "count    192.000000\n",
      "mean      37.208333\n",
      "std       12.049563\n",
      "min       17.000000\n",
      "25%       28.000000\n",
      "50%       35.000000\n",
      "75%       45.000000\n",
      "max       82.000000\n",
      "Name: age, dtype: float64\n",
      "\n",
      "Race: Asian-Pac-Islander, Sex: Female\n",
      "count    346.000000\n",
      "mean      35.089595\n",
      "std       12.300845\n",
      "min       17.000000\n",
      "25%       25.000000\n",
      "50%       33.000000\n",
      "75%       43.750000\n",
      "max       75.000000\n",
      "Name: age, dtype: float64\n",
      "\n",
      "Race: Asian-Pac-Islander, Sex: Male\n",
      "count    693.000000\n",
      "mean      39.073593\n",
      "std       12.883944\n",
      "min       18.000000\n",
      "25%       29.000000\n",
      "50%       37.000000\n",
      "75%       46.000000\n",
      "max       90.000000\n",
      "Name: age, dtype: float64\n",
      "\n",
      "Race: Black, Sex: Female\n",
      "count    1555.000000\n",
      "mean       37.854019\n",
      "std        12.637197\n",
      "min        17.000000\n",
      "25%        28.000000\n",
      "50%        37.000000\n",
      "75%        46.000000\n",
      "max        90.000000\n",
      "Name: age, dtype: float64\n",
      "\n",
      "Race: Black, Sex: Male\n",
      "count    1569.000000\n",
      "mean       37.682600\n",
      "std        12.882612\n",
      "min        17.000000\n",
      "25%        27.000000\n",
      "50%        36.000000\n",
      "75%        46.000000\n",
      "max        90.000000\n",
      "Name: age, dtype: float64\n",
      "\n",
      "Race: Other, Sex: Female\n",
      "count    109.000000\n",
      "mean      31.678899\n",
      "std       11.631599\n",
      "min       17.000000\n",
      "25%       23.000000\n",
      "50%       29.000000\n",
      "75%       39.000000\n",
      "max       74.000000\n",
      "Name: age, dtype: float64\n",
      "\n",
      "Race: Other, Sex: Male\n",
      "count    162.000000\n",
      "mean      34.654321\n",
      "std       11.355531\n",
      "min       17.000000\n",
      "25%       26.000000\n",
      "50%       32.000000\n",
      "75%       42.000000\n",
      "max       77.000000\n",
      "Name: age, dtype: float64\n",
      "\n",
      "Race: White, Sex: Female\n",
      "count    8642.000000\n",
      "mean       36.811618\n",
      "std        14.329093\n",
      "min        17.000000\n",
      "25%        25.000000\n",
      "50%        35.000000\n",
      "75%        46.000000\n",
      "max        90.000000\n",
      "Name: age, dtype: float64\n",
      "\n",
      "Race: White, Sex: Male\n",
      "count    19174.000000\n",
      "mean        39.652498\n",
      "std         13.436029\n",
      "min         17.000000\n",
      "25%         29.000000\n",
      "50%         38.000000\n",
      "75%         49.000000\n",
      "max         90.000000\n",
      "Name: age, dtype: float64\n",
      "\n"
     ]
    }
   ],
   "source": [
    "# Problem 6. groupby, describe를 사용하여 인종, 성별에 따른 나이 통계를 출력\n",
    "df.groupby(['race','sex'])['age'].describe()\n",
    "\n",
    "# 조교 풀이\n",
    "for (race, sex), sub_df in df.groupby(['race', 'sex']):\n",
    "    print(\"Race: {}, Sex: {}\".format(race, sex))\n",
    "    print(sub_df['age'].describe())\n",
    "    print()\n"
   ]
  },
  {
   "cell_type": "code",
   "execution_count": 48,
   "id": "robust-paint",
   "metadata": {},
   "outputs": [
    {
     "data": {
      "text/html": [
       "<div>\n",
       "<style scoped>\n",
       "    .dataframe tbody tr th:only-of-type {\n",
       "        vertical-align: middle;\n",
       "    }\n",
       "\n",
       "    .dataframe tbody tr th {\n",
       "        vertical-align: top;\n",
       "    }\n",
       "\n",
       "    .dataframe thead th {\n",
       "        text-align: right;\n",
       "    }\n",
       "</style>\n",
       "<table border=\"1\" class=\"dataframe\">\n",
       "  <thead>\n",
       "    <tr style=\"text-align: right;\">\n",
       "      <th>sex</th>\n",
       "      <th>Female</th>\n",
       "      <th>Male</th>\n",
       "    </tr>\n",
       "    <tr>\n",
       "      <th>race</th>\n",
       "      <th></th>\n",
       "      <th></th>\n",
       "    </tr>\n",
       "  </thead>\n",
       "  <tbody>\n",
       "    <tr>\n",
       "      <th>Amer-Indian-Eskimo</th>\n",
       "      <td>119</td>\n",
       "      <td>192</td>\n",
       "    </tr>\n",
       "    <tr>\n",
       "      <th>Asian-Pac-Islander</th>\n",
       "      <td>346</td>\n",
       "      <td>693</td>\n",
       "    </tr>\n",
       "    <tr>\n",
       "      <th>Black</th>\n",
       "      <td>1555</td>\n",
       "      <td>1569</td>\n",
       "    </tr>\n",
       "    <tr>\n",
       "      <th>Other</th>\n",
       "      <td>109</td>\n",
       "      <td>162</td>\n",
       "    </tr>\n",
       "    <tr>\n",
       "      <th>White</th>\n",
       "      <td>8642</td>\n",
       "      <td>19174</td>\n",
       "    </tr>\n",
       "  </tbody>\n",
       "</table>\n",
       "</div>"
      ],
      "text/plain": [
       "sex                 Female   Male\n",
       "race                             \n",
       "Amer-Indian-Eskimo     119    192\n",
       "Asian-Pac-Islander     346    693\n",
       "Black                 1555   1569\n",
       "Other                  109    162\n",
       "White                 8642  19174"
      ]
     },
     "execution_count": 48,
     "metadata": {},
     "output_type": "execute_result"
    }
   ],
   "source": [
    "# Solve the problem 6 used crosstab method\n",
    "pd.crosstab(df['race'], df['sex'])"
   ]
  },
  {
   "cell_type": "code",
   "execution_count": 50,
   "id": "broadband-bread",
   "metadata": {},
   "outputs": [
    {
     "data": {
      "text/plain": [
       "array(['Never-married', 'Married-civ-spouse', 'Divorced',\n",
       "       'Married-spouse-absent', 'Separated', 'Married-AF-spouse',\n",
       "       'Widowed'], dtype=object)"
      ]
     },
     "execution_count": 50,
     "metadata": {},
     "output_type": "execute_result"
    }
   ],
   "source": [
    "# Problem 7. 기혼자와 미혼남성 중 소득이 높은 쪽을 확인\n",
    "df.dtypes\n",
    "df.head()\n",
    "df.groupby('relationship').count()\n",
    "\n",
    "# 조교 풀이\n",
    "df['marital-status'].unique()\n",
    "# 앞에 'married' 존재 여부에 따라 결혼 유무 판단"
   ]
  },
  {
   "cell_type": "code",
   "execution_count": 58,
   "id": "cognitive-pressure",
   "metadata": {},
   "outputs": [
    {
     "data": {
      "text/plain": [
       "<=50K    7552\n",
       ">50K      697\n",
       "Name: salary, dtype: int64"
      ]
     },
     "execution_count": 58,
     "metadata": {},
     "output_type": "execute_result"
    }
   ],
   "source": [
    "df[(df['marital-status'].str[:7] == 'Married') & (df['sex'] == 'Male')].salary.value_counts()\n",
    "df[(df['marital-status'].str[:7] != 'Married') & (df['sex'] == 'Male')].salary.value_counts()"
   ]
  },
  {
   "cell_type": "code",
   "execution_count": 68,
   "id": "advanced-bunch",
   "metadata": {},
   "outputs": [
    {
     "data": {
      "text/html": [
       "<div>\n",
       "<style scoped>\n",
       "    .dataframe tbody tr th:only-of-type {\n",
       "        vertical-align: middle;\n",
       "    }\n",
       "\n",
       "    .dataframe tbody tr th {\n",
       "        vertical-align: top;\n",
       "    }\n",
       "\n",
       "    .dataframe thead th {\n",
       "        text-align: right;\n",
       "    }\n",
       "</style>\n",
       "<table border=\"1\" class=\"dataframe\">\n",
       "  <thead>\n",
       "    <tr style=\"text-align: right;\">\n",
       "      <th>salary</th>\n",
       "      <th>&lt;=50K</th>\n",
       "      <th>&gt;50K</th>\n",
       "    </tr>\n",
       "    <tr>\n",
       "      <th>marital-status</th>\n",
       "      <th></th>\n",
       "      <th></th>\n",
       "    </tr>\n",
       "  </thead>\n",
       "  <tbody>\n",
       "    <tr>\n",
       "      <th>False</th>\n",
       "      <td>7552</td>\n",
       "      <td>697</td>\n",
       "    </tr>\n",
       "    <tr>\n",
       "      <th>True</th>\n",
       "      <td>7576</td>\n",
       "      <td>5965</td>\n",
       "    </tr>\n",
       "  </tbody>\n",
       "</table>\n",
       "</div>"
      ],
      "text/plain": [
       "salary          <=50K  >50K\n",
       "marital-status             \n",
       "False            7552   697\n",
       "True             7576  5965"
      ]
     },
     "execution_count": 68,
     "metadata": {},
     "output_type": "execute_result"
    }
   ],
   "source": [
    "# Cross tab을 이용한 풀이 방식\n",
    "sub_df  = df[df['sex'] == 'Male']\n",
    "condition1 = sub_df['marital-status'].str[:7] == 'Married'\n",
    "condition2 = sub_df['salary']\n",
    "\n",
    "pd.crosstab(condition1, condition2)"
   ]
  },
  {
   "cell_type": "code",
   "execution_count": 103,
   "id": "corrected-active",
   "metadata": {},
   "outputs": [],
   "source": [
    "# make table\n",
    "tbl1 = df[(df.relationship == 'Unmarried') & (df.sex == 'Male')]\n",
    "tbl2 = df[(df.relationship != 'Unmarried')]"
   ]
  },
  {
   "cell_type": "code",
   "execution_count": 107,
   "id": "thermal-protocol",
   "metadata": {},
   "outputs": [
    {
     "data": {
      "text/plain": [
       "189618.57825862957"
      ]
     },
     "execution_count": 107,
     "metadata": {},
     "output_type": "execute_result"
    }
   ],
   "source": [
    "tbl1.fnlwgt.mean()\n",
    "tbl2.fnlwgt.mean()"
   ]
  },
  {
   "cell_type": "code",
   "execution_count": 69,
   "id": "utility-addiction",
   "metadata": {},
   "outputs": [
    {
     "data": {
      "text/plain": [
       "99"
      ]
     },
     "execution_count": 69,
     "metadata": {},
     "output_type": "execute_result"
    }
   ],
   "source": [
    "# Problem 8. 일주일에 가장 많은 일을 하는 사람의 근무시간을 출력하시오\n",
    "df['hours-per-week'].max()\n",
    "# 조교랑 동일"
   ]
  },
  {
   "cell_type": "code",
   "execution_count": 71,
   "id": "further-chester",
   "metadata": {},
   "outputs": [
    {
     "data": {
      "text/plain": [
       "<=50K    70.588235\n",
       ">50K     29.411765\n",
       "Name: salary, dtype: float64"
      ]
     },
     "execution_count": 71,
     "metadata": {},
     "output_type": "execute_result"
    }
   ],
   "source": [
    "# Problem 9. 일주일 근무시간이 가장많은 사람들의 수를 출력하고, 이들 중 연 소득이 50K 이상인 사람들의 비율을 출력하시오\n",
    "df[df['hours-per-week'] == df['hours-per-week'].max()]['salary'].value_counts(normalize=True) * 100\n",
    "\n",
    "# 조교랑 동일 할듯...? 각 수를 구해서 풀었는데 내 방식이 더 쉬움\n",
    "# shape[0] : 0번 피처의 수를 반환하는 듯"
   ]
  },
  {
   "cell_type": "code",
   "execution_count": 142,
   "id": "underlying-awareness",
   "metadata": {},
   "outputs": [
    {
     "data": {
      "text/plain": [
       "native-country  salary\n",
       "?               <=50K     40.164760\n",
       "                >50K      45.547945\n",
       "Cambodia        <=50K     41.416667\n",
       "                >50K      40.000000\n",
       "Canada          <=50K     37.914634\n",
       "                            ...    \n",
       "United-States   >50K      45.505369\n",
       "Vietnam         <=50K     37.193548\n",
       "                >50K      39.200000\n",
       "Yugoslavia      <=50K     41.600000\n",
       "                >50K      49.500000\n",
       "Name: hours-per-week, Length: 82, dtype: float64"
      ]
     },
     "execution_count": 142,
     "metadata": {},
     "output_type": "execute_result"
    }
   ],
   "source": [
    "# Problem 10. 각 나라의 연소득에 따른 근무시간을 출력하시오\n",
    "df.groupby(['native-country','salary'])['hours-per-week'].mean()"
   ]
  },
  {
   "cell_type": "code",
   "execution_count": 75,
   "id": "whole-gossip",
   "metadata": {},
   "outputs": [
    {
     "name": "stdout",
     "output_type": "stream",
     "text": [
      "? <=50K\n",
      "40.16\n",
      "\n",
      "? >50K\n",
      "45.55\n",
      "\n",
      "Cambodia <=50K\n",
      "41.42\n",
      "\n",
      "Cambodia >50K\n",
      "40.0\n",
      "\n",
      "Canada <=50K\n",
      "37.91\n",
      "\n",
      "Canada >50K\n",
      "45.64\n",
      "\n",
      "China <=50K\n",
      "37.38\n",
      "\n",
      "China >50K\n",
      "38.9\n",
      "\n",
      "Columbia <=50K\n",
      "38.68\n",
      "\n",
      "Columbia >50K\n",
      "50.0\n",
      "\n",
      "Cuba <=50K\n",
      "37.99\n",
      "\n",
      "Cuba >50K\n",
      "42.44\n",
      "\n",
      "Dominican-Republic <=50K\n",
      "42.34\n",
      "\n",
      "Dominican-Republic >50K\n",
      "47.0\n",
      "\n",
      "Ecuador <=50K\n",
      "38.04\n",
      "\n",
      "Ecuador >50K\n",
      "48.75\n",
      "\n",
      "El-Salvador <=50K\n",
      "36.03\n",
      "\n",
      "El-Salvador >50K\n",
      "45.0\n",
      "\n",
      "England <=50K\n",
      "40.48\n",
      "\n",
      "England >50K\n",
      "44.53\n",
      "\n",
      "France <=50K\n",
      "41.06\n",
      "\n",
      "France >50K\n",
      "50.75\n",
      "\n",
      "Germany <=50K\n",
      "39.14\n",
      "\n",
      "Germany >50K\n",
      "44.98\n",
      "\n",
      "Greece <=50K\n",
      "41.81\n",
      "\n",
      "Greece >50K\n",
      "50.62\n",
      "\n",
      "Guatemala <=50K\n",
      "39.36\n",
      "\n",
      "Guatemala >50K\n",
      "36.67\n",
      "\n",
      "Haiti <=50K\n",
      "36.33\n",
      "\n",
      "Haiti >50K\n",
      "42.75\n",
      "\n",
      "Holand-Netherlands <=50K\n",
      "40.0\n",
      "\n",
      "Honduras <=50K\n",
      "34.33\n",
      "\n",
      "Honduras >50K\n",
      "60.0\n",
      "\n",
      "Hong <=50K\n",
      "39.14\n",
      "\n",
      "Hong >50K\n",
      "45.0\n",
      "\n",
      "Hungary <=50K\n",
      "31.3\n",
      "\n",
      "Hungary >50K\n",
      "50.0\n",
      "\n",
      "India <=50K\n",
      "38.23\n",
      "\n",
      "India >50K\n",
      "46.48\n",
      "\n",
      "Iran <=50K\n",
      "41.44\n",
      "\n",
      "Iran >50K\n",
      "47.5\n",
      "\n",
      "Ireland <=50K\n",
      "40.95\n",
      "\n",
      "Ireland >50K\n",
      "48.0\n",
      "\n",
      "Italy <=50K\n",
      "39.62\n",
      "\n",
      "Italy >50K\n",
      "45.4\n",
      "\n",
      "Jamaica <=50K\n",
      "38.24\n",
      "\n",
      "Jamaica >50K\n",
      "41.1\n",
      "\n",
      "Japan <=50K\n",
      "41.0\n",
      "\n",
      "Japan >50K\n",
      "47.96\n",
      "\n",
      "Laos <=50K\n",
      "40.38\n",
      "\n",
      "Laos >50K\n",
      "40.0\n",
      "\n",
      "Mexico <=50K\n",
      "40.0\n",
      "\n",
      "Mexico >50K\n",
      "46.58\n",
      "\n",
      "Nicaragua <=50K\n",
      "36.09\n",
      "\n",
      "Nicaragua >50K\n",
      "37.5\n",
      "\n",
      "Outlying-US(Guam-USVI-etc) <=50K\n",
      "41.86\n",
      "\n",
      "Peru <=50K\n",
      "35.07\n",
      "\n",
      "Peru >50K\n",
      "40.0\n",
      "\n",
      "Philippines <=50K\n",
      "38.07\n",
      "\n",
      "Philippines >50K\n",
      "43.03\n",
      "\n",
      "Poland <=50K\n",
      "38.17\n",
      "\n",
      "Poland >50K\n",
      "39.0\n",
      "\n",
      "Portugal <=50K\n",
      "41.94\n",
      "\n",
      "Portugal >50K\n",
      "41.5\n",
      "\n",
      "Puerto-Rico <=50K\n",
      "38.47\n",
      "\n",
      "Puerto-Rico >50K\n",
      "39.42\n",
      "\n",
      "Scotland <=50K\n",
      "39.44\n",
      "\n",
      "Scotland >50K\n",
      "46.67\n",
      "\n",
      "South <=50K\n",
      "40.16\n",
      "\n",
      "South >50K\n",
      "51.44\n",
      "\n",
      "Taiwan <=50K\n",
      "33.77\n",
      "\n",
      "Taiwan >50K\n",
      "46.8\n",
      "\n",
      "Thailand <=50K\n",
      "42.87\n",
      "\n",
      "Thailand >50K\n",
      "58.33\n",
      "\n",
      "Trinadad&Tobago <=50K\n",
      "37.06\n",
      "\n",
      "Trinadad&Tobago >50K\n",
      "40.0\n",
      "\n",
      "United-States <=50K\n",
      "38.8\n",
      "\n",
      "United-States >50K\n",
      "45.51\n",
      "\n",
      "Vietnam <=50K\n",
      "37.19\n",
      "\n",
      "Vietnam >50K\n",
      "39.2\n",
      "\n",
      "Yugoslavia <=50K\n",
      "41.6\n",
      "\n",
      "Yugoslavia >50K\n",
      "49.5\n",
      "\n"
     ]
    }
   ],
   "source": [
    "# 조교 풀이 방식\n",
    "for (country, salary), sub_df in df.groupby(['native-country', 'salary']):\n",
    "    print(country, salary)\n",
    "    print(round(sub_df['hours-per-week'].mean(), 2))\n",
    "    print()"
   ]
  },
  {
   "cell_type": "code",
   "execution_count": null,
   "id": "measured-spiritual",
   "metadata": {},
   "outputs": [],
   "source": []
  }
 ],
 "metadata": {
  "kernelspec": {
   "display_name": "Python 3",
   "language": "python",
   "name": "python3"
  },
  "language_info": {
   "codemirror_mode": {
    "name": "ipython",
    "version": 3
   },
   "file_extension": ".py",
   "mimetype": "text/x-python",
   "name": "python",
   "nbconvert_exporter": "python",
   "pygments_lexer": "ipython3",
   "version": "3.9.2"
  }
 },
 "nbformat": 4,
 "nbformat_minor": 5
}
