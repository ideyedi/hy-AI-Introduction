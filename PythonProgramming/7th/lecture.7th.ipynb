{
 "cells": [
  {
   "cell_type": "code",
   "execution_count": 2,
   "id": "hairy-hearts",
   "metadata": {},
   "outputs": [],
   "source": [
    "# Data crowling\n",
    "\n",
    "# 1. API를 사용하는 방법 (Application programming interface)\n",
    "#     장점 : 데이터를 가진 주체가 직접 제공하기 때문에 비교적 쉽다\n",
    "#     단점 : 제공해주는 정보만을 사용해야하기때문에 한정적이다.\n",
    "\n",
    "# 2. Webpage crowling\n",
    "#     웹에 게재된 정보를 수집하는 방법\n",
    "#     수많은 페이지로부터 프로그래밍을 통해 수집\n",
    "#     장점 : 웹 페이지에 있는 모든내용을 수집할 수 있음\n",
    "#     단점 : API에 비해서 어려운 편이고, 과도한 Crowling을 할 경우 차단의 여지도 있음\n",
    "\n",
    "# 3. ETC\n",
    "# 설문조사\n",
    "# programming에 수집기 내제하여 서비스\n",
    "# Google form을 이용한 수집"
   ]
  },
  {
   "cell_type": "code",
   "execution_count": 17,
   "id": "eleven-nebraska",
   "metadata": {},
   "outputs": [
    {
     "data": {
      "text/plain": [
       "<Response [200]>"
      ]
     },
     "execution_count": 17,
     "metadata": {},
     "output_type": "execute_result"
    }
   ],
   "source": [
    "import requests\n",
    "import json\n",
    "# HTTP protocol get method\n",
    "responce = requests.get('https://www.naver.com')\n",
    "#responce.status_code\n",
    "#responce.text\n",
    "responce"
   ]
  },
  {
   "cell_type": "code",
   "execution_count": 20,
   "id": "found-heath",
   "metadata": {},
   "outputs": [
    {
     "data": {
      "text/plain": [
       "{'userId': 1,\n",
       " 'id': 1,\n",
       " 'title': 'sunt aut facere repellat provident occaecati excepturi optio reprehenderit',\n",
       " 'body': 'quia et suscipit\\nsuscipit recusandae consequuntur expedita et cum\\nreprehenderit molestiae ut ut quas totam\\nnostrum rerum est autem sunt rem eveniet architecto'}"
      ]
     },
     "execution_count": 20,
     "metadata": {},
     "output_type": "execute_result"
    }
   ],
   "source": [
    "responce = requests.get('https://jsonplaceholder.typicode.com/posts')\n",
    "#responce.text\n",
    "data = json.loads(responce.text)\n",
    "# make dataFrame\n",
    "data[0]"
   ]
  },
  {
   "cell_type": "code",
   "execution_count": 86,
   "id": "signal-plaintiff",
   "metadata": {},
   "outputs": [
    {
     "data": {
      "text/plain": [
       "<Response [200]>"
      ]
     },
     "execution_count": 86,
     "metadata": {},
     "output_type": "execute_result"
    }
   ],
   "source": [
    "#pip install beautifulsoup4\n",
    "from bs4 import BeautifulSoup\n",
    "\n",
    "response = requests.get('https://news.google.com/topstories?hl=ko&gl=KR&ceid=KR:ko')\n",
    "response"
   ]
  },
  {
   "cell_type": "code",
   "execution_count": 87,
   "id": "private-friendly",
   "metadata": {},
   "outputs": [
    {
     "data": {
      "text/plain": [
       "<div aria-hidden=\"true\" class=\"VUoKZ\"><div class=\"TRHLAc\"></div></div>"
      ]
     },
     "execution_count": 87,
     "metadata": {},
     "output_type": "execute_result"
    }
   ],
   "source": [
    "soup = BeautifulSoup(response.content, 'html.parser', from_encoding='UTF-8')\n",
    "\n",
    "# 가장 맨 처음의 Div 정보를 가지고 온다\n",
    "soup.find('div')"
   ]
  },
  {
   "cell_type": "code",
   "execution_count": 88,
   "id": "certain-angola",
   "metadata": {},
   "outputs": [],
   "source": [
    "# find_all : 해당 정보를 list로 모두 가지고 오는 function\n",
    "divs = soup.find_all('div')\n",
    "\n",
    "#for div in divs:\n",
    "#    print(div.text)"
   ]
  },
  {
   "cell_type": "code",
   "execution_count": 89,
   "id": "national-leave",
   "metadata": {},
   "outputs": [
    {
     "data": {
      "text/plain": [
       "'민주당 당대표 예비경선 후보로 송영길·우원식·홍영표 압축'"
      ]
     },
     "execution_count": 89,
     "metadata": {},
     "output_type": "execute_result"
    }
   ],
   "source": [
    "#articles = soup.select('a.DY5T1d')\n",
    "articles = soup.find_all('a', class_='DY5T1d RZIKme')\n",
    "\n",
    "articles[0].text"
   ]
  },
  {
   "cell_type": "code",
   "execution_count": 90,
   "id": "raising-baker",
   "metadata": {},
   "outputs": [
    {
     "name": "stdout",
     "output_type": "stream",
     "text": [
      "민주당 당대표 예비경선 후보로 송영길·우원식·홍영표 압축 https://news.google.com/articles/CBMiQGh0dHA6Ly93d3cuaGFuaS5jby5rci9hcnRpL3BvbGl0aWNzL3BvbGl0aWNzX2dlbmVyYWwvOTkxNDgwLmh0bWzSAQA?hl=ko&gl=KR&ceid=KR%3Ako\n",
      "민주당, 오늘 당권 예비경선...국민의힘·국민의당 '합당' 온도차 / YTN https://news.google.com/articles/CCAiC0c1QzVDUFlTanNJmAEB?hl=ko&gl=KR&ceid=KR%3Ako\n",
      "송영길·우원식·홍영표, 與 당대표 예비경선 통과…내달 2일 전대 https://news.google.com/articles/CBMiRGh0dHBzOi8vd3d3LmRvbmdhLmNvbS9uZXdzL1BvbGl0aWNzL2FydGljbGUvYWxsLzIwMjEwNDE4LzEwNjQ2NTE3Mi8x0gE3aHR0cHM6Ly93d3cuZG9uZ2EuY29tL25ld3MvYW1wL2FsbC8yMDIxMDQxOC8xMDY0NjUxNzIvMQ?hl=ko&gl=KR&ceid=KR%3Ako\n",
      "우원식·홍영표·송영길 예비경선 통과...국민의힘·국민의당 '합당' 온도차 / YTN https://news.google.com/articles/CCAiC2JtajJjWjlpOGtzmAEB?hl=ko&gl=KR&ceid=KR%3Ako\n",
      "송영길·우원식·홍영표, 與당대표 예비경선 통과 - 조선일보 https://news.google.com/articles/CBMiT2h0dHBzOi8vd3d3LmNob3N1bi5jb20vcG9saXRpY3MvYXNzZW1ibHkvMjAyMS8wNC8xOC9MTFhRTEtETVFWR0xYRVpYSTM3Q0NCTTJMQS_SAV5odHRwczovL3d3dy5jaG9zdW4uY29tL3BvbGl0aWNzL2Fzc2VtYmx5LzIwMjEvMDQvMTgvTExYUUxLRE1RVkdMWEVaWEkzN0NDQk0yTEEvP291dHB1dFR5cGU9YW1w?hl=ko&gl=KR&ceid=KR%3Ako\n",
      "주말에도 나흘째 600명대...일상 속 개인 감염 불어나 https://news.google.com/articles/CAIiEJhR0HiA4ALfhHE0lhJDddcqGQgEKhAIACoHCAowk_vcCjDo688BMLr6iAI?hl=ko&gl=KR&ceid=KR%3Ako\n",
      "[속보] 코로나 신규 확진 672명…나흘 연속 600명대 - 조선일보 https://news.google.com/articles/CBMiVmh0dHBzOi8vd3d3LmNob3N1bi5jb20vbmF0aW9uYWwvd2VsZmFyZS1tZWRpY2FsLzIwMjEvMDQvMTgvUEM3WEpZWUNORkVPREVZNkxWV0JOVU5FM1Uv0gFlaHR0cHM6Ly93d3cuY2hvc3VuLmNvbS9uYXRpb25hbC93ZWxmYXJlLW1lZGljYWwvMjAyMS8wNC8xOC9QQzdYSllZQ05GRU9ERVk2TFZXQk5VTkUzVS8_b3V0cHV0VHlwZT1hbXA?hl=ko&gl=KR&ceid=KR%3Ako\n",
      "5일연속 확진 200명 쏟아지는데···'오세훈표 방역' 괜찮나 - 중앙일보 https://news.google.com/articles/CBMiJ2h0dHBzOi8vbmV3cy5qb2lucy5jb20vYXJ0aWNsZS8yNDAzNzU0OdIBK2h0dHBzOi8vbW5ld3Muam9pbnMuY29tL2FtcGFydGljbGUvMjQwMzc1NDk?hl=ko&gl=KR&ceid=KR%3Ako\n",
      "코로나19 신규확진 672명… 나흘째 600명대 https://news.google.com/articles/CBMiQ2h0dHBzOi8vd3d3LmRvbmdhLmNvbS9uZXdzL1NvY2lldHkvYXJ0aWNsZS9hbGwvMjAyMTA0MTgvMTA2NDYyMzI1LzHSATdodHRwczovL3d3dy5kb25nYS5jb20vbmV3cy9hbXAvYWxsLzIwMjEwNDE4LzEwNjQ2MjMyNS8x?hl=ko&gl=KR&ceid=KR%3Ako\n",
      "코로나19 신규 확진 사흘째 600명대…‘4차 유행’ 분수령 - 중앙일보 https://news.google.com/articles/CBMiJ2h0dHBzOi8vbmV3cy5qb2lucy5jb20vYXJ0aWNsZS8yNDAzNzI4NdIBK2h0dHBzOi8vbW5ld3Muam9pbnMuY29tL2FtcGFydGljbGUvMjQwMzcyODU?hl=ko&gl=KR&ceid=KR%3Ako\n",
      "청와대 '인적 쇄신' 승부수…총리에 'TK' 김부겸 지명 / JTBC 정치부회의 https://news.google.com/articles/CCAiC3NOUVktZHJHY080mAEB?hl=ko&gl=KR&ceid=KR%3Ako\n",
      "“집토끼 운운은 자멸적 전략”…이철희의 '늦은 실험' 성공할까 https://news.google.com/articles/CBMiOWh0dHA6Ly93d3cuaGFuaS5jby5rci9hcnRpL3BvbGl0aWNzL2JsdWVob3VzZS85OTE0NzYuaHRtbNIBAA?hl=ko&gl=KR&ceid=KR%3Ako\n",
      "'부정평가 62%' 文 대통령…'화합형 총리' 내세워도 레임덕 못 막을 듯 https://news.google.com/articles/CBMiR2h0dHBzOi8vYml6LmNob3N1bi5jb20vc2l0ZS9kYXRhL2h0bWxfZGlyLzIwMjEvMDQvMTcvMjAyMTA0MTcwMTM2NS5odG1s0gFDaHR0cHM6Ly9tLmJpei5jaG9zdW4uY29tL25ld3MvYXJ0aWNsZS5hbXAuaHRtbD9jb250aWQ9MjAyMTA0MTcwMTM2NQ?hl=ko&gl=KR&ceid=KR%3Ako\n",
      "'비문' 기용으로 통합·쇄신 강조...민심 회복될까? / YTN https://news.google.com/articles/CCAiC0E2WXhrX29Ka0xFmAEB?hl=ko&gl=KR&ceid=KR%3Ako\n",
      "김부겸 폰 꺼진 밤9시, 그때도 결재란엔 文 사인 없었다 - 중앙일보 https://news.google.com/articles/CBMiJ2h0dHBzOi8vbmV3cy5qb2lucy5jb20vYXJ0aWNsZS8yNDAzNzE5MNIBK2h0dHBzOi8vbW5ld3Muam9pbnMuY29tL2FtcGFydGljbGUvMjQwMzcxOTA?hl=ko&gl=KR&ceid=KR%3Ako\n",
      "지구에서 생태계 온전한 곳 3%뿐…“20%까지 복원 가능” https://news.google.com/articles/CBMiPmh0dHA6Ly93d3cuaGFuaS5jby5rci9hcnRpL3NjaWVuY2Uvc2NpZW5jZV9nZW5lcmFsLzk5MTQ5My5odG1s0gEA?hl=ko&gl=KR&ceid=KR%3Ako\n",
      "서울 등 5개 시도, “원칙없는 공시가격은 감사원 나서야” - 조선일보 https://news.google.com/articles/CBMiVWh0dHBzOi8vd3d3LmNob3N1bi5jb20vbmF0aW9uYWwvcmVnaW9uYWwvc2VvdWwvMjAyMS8wNC8xOC82SFZWVDRaRURGQkozTEk1R0lPSFIyR1dVUS_SAWRodHRwczovL3d3dy5jaG9zdW4uY29tL25hdGlvbmFsL3JlZ2lvbmFsL3Nlb3VsLzIwMjEvMDQvMTgvNkhWVlQ0WkVERkJKM0xJNUdJT0hSMkdXVVEvP291dHB1dFR5cGU9YW1w?hl=ko&gl=KR&ceid=KR%3Ako\n",
      "야당 시·도지사 5인 \"지난해 공시가격으로 동결해야\" https://news.google.com/articles/CAIiEGcgStAOwMMW27Y_qWI_76YqGQgEKhAIACoHCAow_L3zCjDDytMCMLXrrgM?hl=ko&gl=KR&ceid=KR%3Ako\n",
      "서울 중랑천에서 '멸종위기 참매'의 비둘기 사냥 포착... 모래톱 중요성 확인 https://news.google.com/articles/CBMiSGh0dHA6Ly9uZXdzLmtoYW4uY28ua3Iva2hfbmV3cy9raGFuX2FydF92aWV3Lmh0bWw_YXJ0X2lkPTIwMjEwNDE4MTYxNDAwMdIBAA?hl=ko&gl=KR&ceid=KR%3Ako\n"
     ]
    }
   ],
   "source": [
    "divs = soup.select('a.DY5T1d')\n",
    "\n",
    "for div in divs:\n",
    "    print(div.text, 'https://news.google.com'+div.get('href')[1:])"
   ]
  },
  {
   "cell_type": "code",
   "execution_count": 91,
   "id": "funny-canberra",
   "metadata": {},
   "outputs": [
    {
     "name": "stdout",
     "output_type": "stream",
     "text": [
      "민주당 당대표 예비경선 후보로 송영길·우원식·홍영표 압축\n",
      "민주당, 오늘 당권 예비경선...국민의힘·국민의당 '합당' 온도차 / YTN\n",
      "송영길·우원식·홍영표, 與 당대표 예비경선 통과…내달 2일 전대\n",
      "우원식·홍영표·송영길 예비경선 통과...국민의힘·국민의당 '합당' 온도차 / YTN\n",
      "송영길·우원식·홍영표, 與당대표 예비경선 통과 - 조선일보\n",
      "주말에도 나흘째 600명대...일상 속 개인 감염 불어나\n",
      "[속보] 코로나 신규 확진 672명…나흘 연속 600명대 - 조선일보\n",
      "5일연속 확진 200명 쏟아지는데···'오세훈표 방역' 괜찮나 - 중앙일보\n",
      "코로나19 신규확진 672명… 나흘째 600명대\n",
      "코로나19 신규 확진 사흘째 600명대…‘4차 유행’ 분수령 - 중앙일보\n",
      "청와대 '인적 쇄신' 승부수…총리에 'TK' 김부겸 지명 / JTBC 정치부회의\n",
      "“집토끼 운운은 자멸적 전략”…이철희의 '늦은 실험' 성공할까\n",
      "'부정평가 62%' 文 대통령…'화합형 총리' 내세워도 레임덕 못 막을 듯\n",
      "'비문' 기용으로 통합·쇄신 강조...민심 회복될까? / YTN\n",
      "김부겸 폰 꺼진 밤9시, 그때도 결재란엔 文 사인 없었다 - 중앙일보\n",
      "지구에서 생태계 온전한 곳 3%뿐…“20%까지 복원 가능”\n",
      "서울 등 5개 시도, “원칙없는 공시가격은 감사원 나서야” - 조선일보\n",
      "야당 시·도지사 5인 \"지난해 공시가격으로 동결해야\"\n",
      "서울 중랑천에서 '멸종위기 참매'의 비둘기 사냥 포착... 모래톱 중요성 확인\n"
     ]
    }
   ],
   "source": [
    "#articles = soup.select('article.MQsxIb a')\n",
    "#articles = soup\n",
    "for article in articles:\n",
    "    print(article.text)"
   ]
  },
  {
   "cell_type": "code",
   "execution_count": 92,
   "id": "velvet-carrier",
   "metadata": {},
   "outputs": [
    {
     "name": "stdout",
     "output_type": "stream",
     "text": [
      "민주당, 오늘 당권 예비경선...국민의힘·국민의당 '합당' 온도차 / YTN\n",
      "송영길·우원식·홍영표, 與 당대표 예비경선 통과…내달 2일 전대\n",
      "우원식·홍영표·송영길 예비경선 통과...국민의힘·국민의당 '합당' 온도차 / YTN\n",
      "송영길·우원식·홍영표, 與당대표 예비경선 통과 - 조선일보\n",
      "[속보] 코로나 신규 확진 672명…나흘 연속 600명대 - 조선일보\n",
      "5일연속 확진 200명 쏟아지는데···'오세훈표 방역' 괜찮나 - 중앙일보\n",
      "코로나19 신규확진 672명… 나흘째 600명대\n",
      "코로나19 신규 확진 사흘째 600명대…‘4차 유행’ 분수령 - 중앙일보\n",
      "“집토끼 운운은 자멸적 전략”…이철희의 '늦은 실험' 성공할까\n",
      "'부정평가 62%' 文 대통령…'화합형 총리' 내세워도 레임덕 못 막을 듯\n",
      "'비문' 기용으로 통합·쇄신 강조...민심 회복될까? / YTN\n",
      "김부겸 폰 꺼진 밤9시, 그때도 결재란엔 文 사인 없었다 - 중앙일보\n",
      "야당 시·도지사 5인 \"지난해 공시가격으로 동결해야\"\n"
     ]
    }
   ],
   "source": [
    "#articles = soup.select('article.MQsxIb a')\n",
    "articles = soup.select('.MQsxIb > h4.ipQwMb > a')\n",
    "\n",
    "for article in articles:\n",
    "    print(article.text)"
   ]
  },
  {
   "cell_type": "code",
   "execution_count": null,
   "id": "impaired-mouth",
   "metadata": {},
   "outputs": [],
   "source": []
  }
 ],
 "metadata": {
  "kernelspec": {
   "display_name": "Python 3",
   "language": "python",
   "name": "python3"
  },
  "language_info": {
   "codemirror_mode": {
    "name": "ipython",
    "version": 3
   },
   "file_extension": ".py",
   "mimetype": "text/x-python",
   "name": "python",
   "nbconvert_exporter": "python",
   "pygments_lexer": "ipython3",
   "version": "3.9.2"
  }
 },
 "nbformat": 4,
 "nbformat_minor": 5
}
