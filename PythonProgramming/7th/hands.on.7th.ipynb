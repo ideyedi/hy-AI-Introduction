{
 "cells": [
  {
   "cell_type": "code",
   "execution_count": 1,
   "id": "certified-testament",
   "metadata": {},
   "outputs": [],
   "source": [
    "import requests\n",
    "import pandas as pd\n",
    "import numpy as np\n",
    "from bs4 import BeautifulSoup"
   ]
  },
  {
   "cell_type": "code",
   "execution_count": 2,
   "id": "caroline-activity",
   "metadata": {},
   "outputs": [],
   "source": [
    "# Practice problem #1 Naver news clowing\n",
    "# Anti clowing avoid method\n",
    "conn = requests.get('https://news.naver.com/main/list.nhn?mode=LSB&mid=sec&sid1=100', headers={'User-Agent':'Mozilla/5.0'})\n",
    "#response = requests.get('https://ideyedi.github.io')\n",
    "conn\n",
    "soup = BeautifulSoup(conn.content, 'html.parser', from_encoding='UTF-8')"
   ]
  },
  {
   "cell_type": "code",
   "execution_count": 3,
   "id": "postal-newark",
   "metadata": {},
   "outputs": [
    {
     "name": "stdout",
     "output_type": "stream",
     "text": [
      " 오후 9시까지 481명, 어제보다 142명↓…19일 500명대 예상(종합) 수도권 278명, 비수도권 203명…주말-휴일 검사건수 감소 영향 (전국종합=연합뉴스) 최종호 김지헌 신선미 기자 = 국내 신종 … 연합뉴스 2분전\n",
      " 두 전직 대통령 사면 촉구한 洪 “文 퇴임 후 원전 비리 하나로도 중죄” 17일 페이스북서 “그래서 이젠 화해·화합의 정치 하라고 권해. 더는 감정으로 몽니 부리지 말고 두 전직 대통령 사면하라” 요구 … 세계일보 3분전\n",
      "동영상기사  [KBS 전주] 더불어민주당 김윤덕 의원이 집 등에서 거소투표를 하는 시각장애인에게 점자형 투표용지를 제공하도록 하는 공직선거 … KBS 4분전\n",
      " 김윤덕 “거소투표 시각장애인에 점자투표용지 제공해야”  [KBS 광주] 더불어민주당의 5·2 전당대회 당 대표 경선이 송영길, 우원식, 홍영표 후보 간 3파전으로 확정됐습니다. 민주 … KBS 11분전\n",
      "동영상기사  [KBS 부산] 박형준 부산시장이 오늘 오후 서울시청에서 국민의힘 소속 5개 시도지사와 공시가격 현실화와 관련한 회의를 열고  … KBS 14분전\n",
      " 송영길·우원식·홍영표, 당대표 컷오프 통과 16일 청와대가 발표한 대통령비서실 방역기획관 신설을 둘러싸고 논란이 일고 있다. ‘옥상옥’ 우려와 함께 기모란 국립암센터 교수 … 동아일보 15분전\n",
      "동영상기사 국민의힘의 차기 원내대표 선거전이 18일 본격적으로 막이 올랐다. 이번 선거는 4·7 재·보선 압승을 발판삼아 거대 여당의 ‘입 … 동아일보 15분전\n",
      " 야당 시도지사 “지자체에 공시가격 조정 권한 이양” 김웅 국민의힘 의원이 신종 코로나바이러스 감염증(코로나19) 백신 수급 상황과 관련해 “이(4400만명 접종) 물량은 어디에 있 … 서울신문 23분전\n",
      " “백신 급하지 않다”던 기모란 임명 논란…‘옥상옥’ 우려도 [이데일리 김소정 기자] 정청래 더불어민주당 의원은 김부겸 국무총리 후보자를 ‘형’이라고 부르며 쓴소리를 내뱉은 원희룡 제주지사 … 이데일리 27분전\n",
      " ‘野통합 누가 선도할 것인가’…국힘 원내대표 선거전 본격화 국민의힘 소속 광역자치단체장들이 최근 논란이 되고 있는 2021년도 공동주택 공시가격을 지난해 가격으로 동결해 달라고 18일 정 … 동아일보 30분전\n",
      " “4400만명분 백신 어딨나요”...김웅, 고민정 현수막 사진 공유 국민의힘이 “4·7 재·보궐선거에서 드러난 민심에 응답하라”며 현재 더불어민주당이 독식하고 있는 상임위원장 재배분을 압박하기로  … 동아일보 30분전\n",
      " 원희룡 “부겸이 형” SNS에 정청래 “얄팍한 수준의 인간성”  [앵커] 존 케리 미국 대통령 기후특사가 일본 후쿠시마 원전 오염수 방류 문제에 미국이 개입하는 건 부적절하단 입장을 밝혔습니 … KBS 31분전\n",
      " 野 광역단체장들 “공시가 동결하고, 가격결정권 넘겨라”  [앵커] 정치권 소식입니다. 내년 대선을 앞두고 여야 모두 새 지도부 선출을 위한 경선 레이스에 돌입했습니다. 민주당은 오늘( … KBS 37분전\n",
      " 국민의힘 “상임위장 재배분” 요구…민주당과 격돌 불가피 내년 대통령 선거에 도전하는 박용진 더불어민주당 의원이 ‘남녀평등복무제’ 도입을 제안했다. 남녀 모두 100일간의 의무 기초군사 … 한국경제 38분전\n",
      "동영상기사 [머니투데이 이동우 기자] 정청래 더불어민주당 의원이 원희룡 제주지사가 김부겸 국무총리 후보자를 비판하자 \"객쩍은 소리 그만 하 … 머니투데이 40분전\n",
      " 존 케리 “日 오염수 방출에 개입 부적절” [경향신문] 여야가 4·7 재·보궐 선거에 이어 4월 임시국회에서 대정부질문과 인사청문회 등으로 재격돌한다. 대정부질문에서는 백 … 경향신문 49분전\n",
      "동영상기사 [경향신문] 김태흠 “여당 폭주 용납 못해” 김기현 “야권 연대 중심으로” 권성동·유의동도 출마 예고 당대표 후보군에 영남권 다 … 경향신문 49분전\n",
      " 與 당대표 3파전 확정…野도 원내대표 레이스 시동 [경향신문] 국민의당에서 국민의힘과의 야권통합에 대한 이견이 분출했다. 중도 지향의 당 정체성이 흔들릴 수 있다는 등의 우려가  … 경향신문 49분전\n",
      " \"여성도 100일 군사훈련\"…'이대남' 구애 나선 與 [경향신문] 더불어민주당의 18일 예비경선에서 뽑힌 3명의 차기 당권 주자인 우원식, 홍영표, 송영길 후보(기호순)는 주말에도  … 경향신문 49분전\n",
      " 정청래, 김부겸 비판한 원희룡 향해 \"님 앞가림이나 잘해라\" [경향신문] 친문계 “이럴 때일수록 단합해야 위기 돌파…분열 안 돼” ‘예비경선 통과’ 송영길·우원식·홍영표는 “탈계파” 외쳐  … 경향신문 49분전\n"
     ]
    }
   ],
   "source": [
    "titles = soup.select('dl > dt > a')\n",
    "spans = soup.select('dl > dd > span.lede')\n",
    "writes = soup.select('dl > dd > span.writing')\n",
    "dates = soup.select('dl > dd > span.date')\n",
    "titles_new = []\n",
    "\n",
    "for title in titles:\n",
    "    text = title.text.replace('\\t', '').replace('\\n', '').replace('\\r','')\n",
    "    if not text:\n",
    "        continue\n",
    "    else:\n",
    "        titles_new.append(text)\n",
    "\n",
    "for i in range(0, 20):\n",
    "    print(titles_new[i], spans[i].text, writes[i].text, dates[i].text)"
   ]
  },
  {
   "cell_type": "code",
   "execution_count": 4,
   "id": "continued-brazil",
   "metadata": {},
   "outputs": [
    {
     "data": {
      "text/plain": [
       "<Response [200]>"
      ]
     },
     "execution_count": 4,
     "metadata": {},
     "output_type": "execute_result"
    }
   ],
   "source": [
    "# Practice problem #2\n",
    "# Hanyang univ homepage clowing\n",
    "conn = requests.get('https://search.naver.com/search.naver?where=kin&sm=tab_jum&query=한양대학교', headers={'User-Agent':'Mozilla/5.0'})\n",
    "conn"
   ]
  },
  {
   "cell_type": "code",
   "execution_count": 5,
   "id": "located-finish",
   "metadata": {},
   "outputs": [],
   "source": [
    "# parsing used to bs4\n",
    "soup = BeautifulSoup(conn.content, 'html.parser', from_encoding='UTF-8')"
   ]
  },
  {
   "cell_type": "code",
   "execution_count": 6,
   "id": "agreed-findings",
   "metadata": {},
   "outputs": [
    {
     "name": "stdout",
     "output_type": "stream",
     "text": [
      "중,고등학교 자퇴하고 검정고시 패스 이후 한양대학교 갈수 있나요? 중2 인데 최근들어 학교에 있는 시간이 아깝고 내 인생에 불필요한 시간이다라는 생각과 학교에 있으면서 대인관계 스트레스 때문에 학교를 자퇴하려고 합니다 혹시 중학교 고등학교 검정고시 치고 수능쳐서 한양대학교 갈 수 있나요???????  \n",
      "한양대학교 수시 한양대학교 음악대학을 수시로 보려하는데요 한부모 가정인데 한부모가정은 입시전형이 다른가요?? 만약 다르면 어떻게 다른지 자세히 설명해주세요 ㅠㅜ  \n",
      "한양대학교 입시원서 한양대학교에 입학원서 최대 몇갸까지 넣을 수 있나요? 일반적인 대학에는 입학원서 최대 몇개까지 가능한가요?  \n",
      "한양대학교 방재안전공학과 편입 하고싶은데 정보가 있을까요??  \n",
      "한양대학교 대학원 역사교육전공 한양대학교 대학원에 역사교육전공 있나요?  \n",
      "한양대학교 미래인재교육원이 대학교인가요 아니면 한양대학교 소속 교육원인건가요?  \n",
      "한양대학교 교육대학원 질문 질문드려요 한양대학교 교육대학원을 진학하고자 하구요 상담심리쪽으로 지워하려고 하는데요 한양대학교 교육대학원 지원하는데 경력이 없어도 되는지랑 제가 학부전공이 심리쪽이 아니라서 하게된다면 학은제를 한다음에 한양대학교 교육대학원에 지원해야되거든요 그래도 괜찮을까요?  \n",
      "한양대학교 교육대학원 상담심리 문의드려요! ... 전문상담교사2급 자격증을 취득하고 싶어 한양대학교 교육대학원 상담심리 전공 양성과정... 저는 경영으로 4년제를 졸업했기 때문에 한양대학교 교육대학원 양성과정 자격이 되지 않는 걸로... 제가 알아보기론 학점은행 제도로 2학기만 강의 들으면 한양대학교 교육대학원 상담심리 양성과정...   \n",
      "한양대학교는 수능 최저라는것이 존재하나요? 안녕하세요 한양대학교를 희망하는 고등학생입니다. 혹시 한양대는 수능 최저 가 있나요? 목표 학과는, 기계공학과 아니면, 미래자동차하과 입니다  \n",
      "한양사이버대학교vs한양대학교미래인재교육원 ... 한양사이버말고 한양대학교미래인재교육원 있다고 들어서요 1.한양대학교 미래인재교육원 학비가 얼마인가요? 2.한양대학교 미래인재교육원... 3.한양대학교 미래인재교육원 vs 한양사이버대학교 장단점 알려주세요 건축공간디자인과로만 원합니다 학습플래너 복사+광고글은 차단합니다...   \n"
     ]
    }
   ],
   "source": [
    "lsts = soup.select('div.question_area')\n",
    "for lst in lsts:\n",
    "    print(lst.text[4:])"
   ]
  },
  {
   "cell_type": "code",
   "execution_count": 7,
   "id": "central-broadcasting",
   "metadata": {},
   "outputs": [
    {
     "name": "stdout",
     "output_type": "stream",
     "text": [
      "2021.03.22.\n",
      "2021.02.25.\n",
      "2020.12.17.\n",
      "2021.02.08.\n",
      "2021.02.17.\n",
      "2020.08.09.\n",
      "2020.09.20.\n",
      "2020.07.01.\n",
      "2021.03.24.\n",
      "2021.01.18.\n"
     ]
    }
   ],
   "source": [
    "dates = soup.select('span.desc')\n",
    "for date in dates:\n",
    "    print(date.text)"
   ]
  },
  {
   "cell_type": "code",
   "execution_count": 2,
   "id": "seeing-mission",
   "metadata": {},
   "outputs": [],
   "source": [
    "################################### 조교 풀이 방법 ###################################\n",
    "import requests\n",
    "from bs4 import BeautifulSoup"
   ]
  },
  {
   "cell_type": "code",
   "execution_count": 3,
   "id": "super-portugal",
   "metadata": {},
   "outputs": [
    {
     "data": {
      "text/plain": [
       "<Response [200]>"
      ]
     },
     "execution_count": 3,
     "metadata": {},
     "output_type": "execute_result"
    }
   ],
   "source": [
    "header = { \n",
    "'User-Agent' : ('Mozilla/5.0 (Windows NT 10.0;Win64; x64)\\\n",
    "AppleWebKit/537.36 (KHTML, like Gecko) Chrome/71.0.3578.98\\\n",
    "Safari/537.36'), } \n",
    "res = requests.get('https://news.naver.com/main/list.nhn?mode=LSD&mid=sec&sid1=100', headers=header)\n",
    "res"
   ]
  },
  {
   "cell_type": "code",
   "execution_count": 4,
   "id": "nearby-shark",
   "metadata": {},
   "outputs": [],
   "source": [
    "c = res.content\n",
    "soup = BeautifulSoup(c, 'html.parser')"
   ]
  },
  {
   "cell_type": "code",
   "execution_count": 5,
   "id": "black-update",
   "metadata": {},
   "outputs": [
    {
     "name": "stdout",
     "output_type": "stream",
     "text": [
      " https://news.naver.com/main/read.nhn?mode=LSD&mid=sec&sid1=100&oid=016&aid=0001823058\n",
      "==================================================\n",
      "“4400만명분 백신 어디에?” 김웅, 고민정 직격 https://news.naver.com/main/read.nhn?mode=LSD&mid=sec&sid1=100&oid=016&aid=0001823058\n",
      "==================================================\n",
      " https://news.naver.com/main/read.nhn?mode=LSD&mid=sec&sid1=100&oid=023&aid=0003608751\n",
      "==================================================\n",
      "김정은도 2030에 골머리... 인간 개조론까지 외쳤다 https://news.naver.com/main/read.nhn?mode=LSD&mid=sec&sid1=100&oid=023&aid=0003608751\n",
      "==================================================\n",
      " https://news.naver.com/main/read.nhn?mode=LSD&mid=sec&sid1=100&oid=023&aid=0003608750\n",
      "==================================================\n",
      "“尹 외가가 내 지역구” “安은 중학교 후배” 국민의힘 원내대표 주자들 https://news.naver.com/main/read.nhn?mode=LSD&mid=sec&sid1=100&oid=023&aid=0003608750\n",
      "==================================================\n",
      "동영상기사 https://news.naver.com/main/read.nhn?mode=LSD&mid=sec&sid1=100&oid=052&aid=0001576898\n",
      "==================================================\n",
      "與, 우원식·홍영표·송영길 '3파전' 압축...野 '합당' 온도차 https://news.naver.com/main/read.nhn?mode=LSD&mid=sec&sid1=100&oid=052&aid=0001576898\n",
      "==================================================\n",
      " https://news.naver.com/main/read.nhn?mode=LSD&mid=sec&sid1=100&oid=011&aid=0003898773\n",
      "==================================================\n",
      "“백신 구하려면···文, 이재용과 바이든 만나 반도체 투자 약속해야” https://news.naver.com/main/read.nhn?mode=LSD&mid=sec&sid1=100&oid=011&aid=0003898773\n",
      "==================================================\n",
      "동영상기사 https://news.naver.com/main/read.nhn?mode=LSD&mid=sec&sid1=100&oid=052&aid=0001576897\n",
      "==================================================\n",
      "김부겸 총리 후보자 청문 준비...文, 국정 동력 회복 시동 https://news.naver.com/main/read.nhn?mode=LSD&mid=sec&sid1=100&oid=052&aid=0001576897\n",
      "==================================================\n",
      " https://news.naver.com/main/read.nhn?mode=LSD&mid=sec&sid1=100&oid=001&aid=0012337256\n",
      "==================================================\n",
      "오후 9시까지 481명, 어제보다 142명↓…19일 500명대 예상(종합) https://news.naver.com/main/read.nhn?mode=LSD&mid=sec&sid1=100&oid=001&aid=0012337256\n",
      "==================================================\n",
      " https://news.naver.com/main/read.nhn?mode=LSD&mid=sec&sid1=100&oid=022&aid=0003572534\n",
      "==================================================\n",
      "두 전직 대통령 사면 촉구한 洪 “文 퇴임 후 원전 비리 하나로도 중죄” https://news.naver.com/main/read.nhn?mode=LSD&mid=sec&sid1=100&oid=022&aid=0003572534\n",
      "==================================================\n",
      "동영상기사 https://news.naver.com/main/read.nhn?mode=LSD&mid=sec&sid1=100&oid=056&aid=0011027735\n",
      "==================================================\n",
      "김윤덕 “거소투표 시각장애인에 점자투표용지 제공해야” https://news.naver.com/main/read.nhn?mode=LSD&mid=sec&sid1=100&oid=056&aid=0011027735\n",
      "==================================================\n",
      "동영상기사 https://news.naver.com/main/read.nhn?mode=LSD&mid=sec&sid1=100&oid=056&aid=0011027712\n",
      "==================================================\n",
      "송영길·우원식·홍영표, 당대표 컷오프 통과 https://news.naver.com/main/read.nhn?mode=LSD&mid=sec&sid1=100&oid=056&aid=0011027712\n",
      "==================================================\n"
     ]
    }
   ],
   "source": [
    "# ul.type06_headline > li > dl > dt > a.nclicks\n",
    "titles = soup.select('ul.type06_headline li dl dt a')\n",
    "for title in titles:\n",
    "    print(title.text.strip(), title.get('href'))\n",
    "    print('='*50)"
   ]
  },
  {
   "cell_type": "code",
   "execution_count": 6,
   "id": "charitable-russell",
   "metadata": {},
   "outputs": [
    {
     "name": "stdout",
     "output_type": "stream",
     "text": [
      "[헤럴드경제] 김웅 국민의힘 의원이 신종 코로나바이러스 감염증(코로나19) 백신 수급 상황을 비판하며 과거 고민정 더불어민주당  … 24분전 헤럴드경제\n",
      "김정은 북한 국무위원장이 최근 장마당 세대인 2030 세대를 겨낭해 ‘인간개조론'을 언급했다. 한류 등을 접하면서 외부 세계를  … 24분전 조선일보\n",
      "국민의힘 김기현(62·울산 남구을)·김태흠 의원(58·충남 보령서천)이 18일 차기 원내대표 선거 출마를 선언했다. 권성동(61 … 28분전 조선일보\n",
      "[앵커] 더불어민주당이 당권 주자를 우원식·홍영표·송영길 의원의 3파전으로 압축한 가운데 앞선 '친문 핵심' 윤호중 원내대표 선 … 31분전 YTN\n",
      "[서울경제] 김근식 국민의힘 비전전략실장(경남대 정치외교학 교수)가 신종 코로나바이러스 감염증(코로나19) 백신을 구하기 위해  … 31분전 서울경제\n",
      "[앵커] 차기 국무총리로 지명된 김부겸 후보자는 본격적인 청문회 준비에 들어갔습니다. 당분간 홍남기 경제부총리가 총리 역할을 대 … 31분전 YTN\n",
      "수도권 278명, 비수도권 203명…주말-휴일 검사건수 감소 영향 (전국종합=연합뉴스) 최종호 김지헌 신선미 기자 = 국내 신종 … 34분전 연합뉴스\n",
      "17일 페이스북서 “그래서 이젠 화해·화합의 정치 하라고 권해. 더는 감정으로 몽니 부리지 말고 두 전직 대통령 사면하라” 요구 … 35분전 세계일보\n",
      " [KBS 전주] 더불어민주당 김윤덕 의원이 집 등에서 거소투표를 하는 시각장애인에게 점자형 투표용지를 제공하도록 하는 공직선거 … 37분전 KBS\n",
      " [KBS 광주] 더불어민주당의 5·2 전당대회 당 대표 경선이 송영길, 우원식, 홍영표 후보 간 3파전으로 확정됐습니다. 민주 … 43분전 KBS\n"
     ]
    }
   ],
   "source": [
    "# ul.type06_headline > li > dl > dt > a.nclicks\n",
    "contents = soup.select('ul.type06_headline li dl dd > span.lede')\n",
    "dates = soup.select('ul.type06_headline li dl dd > span.date')\n",
    "companies = soup.select('ul.type06_headline li dl dd > span.writing')\n",
    "\n",
    "# Nice zip function\n",
    "for content, date, company in zip(contents, dates, companies):\n",
    "    print(content.text, date.text, company.text)"
   ]
  },
  {
   "cell_type": "code",
   "execution_count": 7,
   "id": "electric-daily",
   "metadata": {},
   "outputs": [
    {
     "data": {
      "text/plain": [
       "<Response [200]>"
      ]
     },
     "execution_count": 7,
     "metadata": {},
     "output_type": "execute_result"
    }
   ],
   "source": [
    "# Practice problem #2\n",
    "# Hanyang univ homepage clowing\n",
    "conn = requests.get('https://search.naver.com/search.naver?sm=tab_hty.top&where=nexearch&query=한양대학교&oquery=한양대학교%27&tqi=hcw0HdprvN8ssQfqU7Gssssstpd-464851', headers={'User-Agent':'Mozilla/5.0'})\n",
    "conn"
   ]
  },
  {
   "cell_type": "code",
   "execution_count": 8,
   "id": "surgical-recorder",
   "metadata": {},
   "outputs": [],
   "source": [
    "soup = BeautifulSoup(conn.content, 'html.parser', from_encoding='UTF-8')\n",
    "#soup"
   ]
  },
  {
   "cell_type": "code",
   "execution_count": 9,
   "id": "contained-spare",
   "metadata": {},
   "outputs": [
    {
     "name": "stdout",
     "output_type": "stream",
     "text": [
      "중,고등학교 자퇴하고 검정고시 패스 이후 한양대학교 갈수 있나요? 중2 인데 최근들어 학교에 있는 시간이 아깝고 내 인생에 불필요한 시간이다라는 생각과 학교에 있으면서 대인관계 스트레스 때문에 학교를 자퇴하려고 합니다 혹시 중학교 고등학교 검정고시 치고 수능쳐서 한양대학교 갈 수 있나요??????? 2021.03.22.\n",
      "한양대학교 수시 한양대학교 음악대학을 수시로 보려하는데요 한부모 가정인데 한부모가정은 입시전형이 다른가요?? 만약 다르면 어떻게 다른지 자세히 설명해주세요 ㅠㅜ 2021.02.25.\n",
      "한양대학교 입시원서 한양대학교에 입학원서 최대 몇갸까지 넣을 수 있나요? 일반적인 대학에는 입학원서 최대 몇개까지 가능한가요? 2020.12.17.\n"
     ]
    }
   ],
   "source": [
    "titles = soup.select('div.question_group > a.question_text')\n",
    "dates = soup.select('.desc_group > span.desc')\n",
    "\n",
    "for title, date in zip(titles, dates):\n",
    "    print(title.text.strip(), date.text)"
   ]
  },
  {
   "cell_type": "code",
   "execution_count": 12,
   "id": "verified-puppy",
   "metadata": {},
   "outputs": [
    {
     "name": "stdout",
     "output_type": "stream",
     "text": [
      "세계 석학이 본 반도체 기술의 미래…'강유전체·3D 집적' https://zdnet.co.kr/view/?no=20210417231538 헤럴드경제\n",
      "한양대학교, '제139회 한양미래전략포럼' 개최 http://www.lecturernews.com/news/articleView.html?idxno=65407 조선일보\n",
      "창녕군, 한양대 창원한마음병원과 군민 진료혜택 ‘업무협약’ http://www.shinailbo.co.kr/news/articleView.html?idxno=1401053 조선일보\n",
      "빔모빌리티, 공주대학교 공과대학 총학생회와 교내 전동킥보드 운영 MOU 체결 http://www.etnews.com/20210418000051 YTN\n",
      "한양대구리병원, 임상교수실험실 리모델링 확장 개소 http://www.bosa.co.kr/news/articleView.html?idxno=2148718 서울경제\n"
     ]
    }
   ],
   "source": [
    "titles = soup.select('.news_tit')\n",
    "links = soup.select('.news_tit')\n",
    "compaies = soup.select('.info_group a.info')\n",
    "\n",
    "for title, link, company in zip(titles, links, companies):\n",
    "    print(title.text, link.get('href'), company.text)\n",
    "    "
   ]
  },
  {
   "cell_type": "code",
   "execution_count": 39,
   "id": "burning-shape",
   "metadata": {},
   "outputs": [
    {
     "name": "stdout",
     "output_type": "stream",
     "text": [
      "한양대학교 정시등급 (2020) 2021.01.06. https://blog.naver.com/kmimi77/222198402604\n",
      "전문상담교사 한양대학교 상담심리교육대학원 4개월 공부후기 2021.03.10. https://blog.naver.com/comet0424/222271145835\n",
      "한양대학교편입 정보 분석하고 편입성공하기 2021.03.30. https://blog.naver.com/ds1lkc/222292350358\n",
      "2021학년도 한양대학교 수시 입시 결과 (학생부 교과) 2일 전 https://blog.naver.com/muno4u/222312201487\n",
      "한양대학교 편입 아무것도 없이 시작 2021.03.31. https://blog.naver.com/xpn9fsmean/222294036339\n",
      "한양대 수시등급 및 전략 분석 (2021학년도 한양대 내신, 한양대학교 수시등급) 4일 전 https://blog.naver.com/ssonch16/222310271067\n",
      "한양대학교 대학원, 상담심리 양성과정 입학에 정말 중요한건 2021.03.30. https://blog.naver.com/info_cbs_01/222292944607\n",
      "[사랑한대/사랑한대 활동] 한양대학교 ERICA 인공지능융합연구센터 개소식 4일 전 https://blog.naver.com/hanyangiphak/222309909069\n",
      "한양대학교 교육대학원 전문상담교사2급 취득하는법! 5일 전 https://blog.naver.com/thfdl1346/222308774928\n"
     ]
    }
   ],
   "source": [
    "titles = soup.select('._au_view_collection .total_tit')\n",
    "dates = soup.select('._au_view_collection .sub_time')\n",
    "\n",
    "for title, date in zip(titles, dates):\n",
    "    print(title.text, date.text, title.get('href'))"
   ]
  },
  {
   "cell_type": "code",
   "execution_count": null,
   "id": "emotional-divorce",
   "metadata": {},
   "outputs": [],
   "source": []
  }
 ],
 "metadata": {
  "kernelspec": {
   "display_name": "Python 3",
   "language": "python",
   "name": "python3"
  },
  "language_info": {
   "codemirror_mode": {
    "name": "ipython",
    "version": 3
   },
   "file_extension": ".py",
   "mimetype": "text/x-python",
   "name": "python",
   "nbconvert_exporter": "python",
   "pygments_lexer": "ipython3",
   "version": "3.9.2"
  }
 },
 "nbformat": 4,
 "nbformat_minor": 5
}
