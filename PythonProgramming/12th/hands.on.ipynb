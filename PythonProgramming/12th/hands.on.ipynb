{
 "cells": [
  {
   "cell_type": "code",
   "execution_count": 1,
   "id": "ba8dfd1d-29de-49d1-aa64-05d33573b009",
   "metadata": {},
   "outputs": [],
   "source": [
    "import traceback\n",
    "import time\n",
    "from selenium import webdriver\n",
    "from selenium.webdriver.common.keys import Keys\n",
    "from selenium.webdriver.common.action_chains import ActionChains"
   ]
  },
  {
   "cell_type": "code",
   "execution_count": 13,
   "id": "e581bd52-a412-4b9b-9b3d-edc7be64a861",
   "metadata": {},
   "outputs": [
    {
     "name": "stdout",
     "output_type": "stream",
     "text": [
      "Link : https://www.instagram.com/p/CPIMGtAAr8n/\n"
     ]
    },
    {
     "name": "stderr",
     "output_type": "stream",
     "text": [
      "Traceback (most recent call last):\n",
      "  File \"<ipython-input-13-dd9cb0f6edc3>\", line 38, in <module>\n",
      "    like_count = floating_tags[0].text\n",
      "IndexError: list index out of range\n"
     ]
    }
   ],
   "source": [
    "options = webdriver.ChromeOptions()\n",
    "options.add_argument('user-data-dir=/home/eyedi/Algorithm/Hanyang-python/12th/HYUChrome')\n",
    "\n",
    "d = webdriver.Chrome('chromedriver', options=options)\n",
    "\n",
    "try:\n",
    "    d.get('https://www.instagram.com')\n",
    "    \n",
    "    time.sleep(2)\n",
    "    \n",
    "    search_tag = d.find_element_by_class_name('eyXLr')\n",
    "    \n",
    "    ac = ActionChains(d)\n",
    "    ac.move_to_element(search_tag)\n",
    "    ac.click()\n",
    "    ac.send_keys('한양대학교')\n",
    "    ac.pause(2)\n",
    "    ac.move_by_offset(0, 50)\n",
    "    ac.click()\n",
    "    ac.perform()\n",
    "    \n",
    "    time.sleep(2)\n",
    "    \n",
    "    posts = d.find_elements_by_css_selector('._2z6nI .v1Nh3')\n",
    "    # 포스팅의 20개만 추림\n",
    "    posts = posts[:20]\n",
    "    \n",
    "    for post in posts:\n",
    "        link_tag = post.find_element_by_tag_name('a')\n",
    "        print('Link : {}'.format(link_tag.get_attribute('href')))\n",
    "        \n",
    "        ac = ActionChains(d)\n",
    "        ac.move_to_element(post)\n",
    "        ac.perform()\n",
    "        \n",
    "        time.sleep(0.1)\n",
    "        floating_tags = post.find_elements_by_css_selector('.qn-Ox .-V_eO')\n",
    "        \n",
    "        like_count = floating_tags[0].text\n",
    "        comment_count = floating_tags[1].text\n",
    "        \n",
    "        print('Like : {}, Comments : {}'.format(like_count, comment_count))\n",
    "        \n",
    "        like_button_tag = d.find_element_by_css_selector('.ltpMr .fr66n .wp06b')\n",
    "        ac = ActionChains(d)\n",
    "        ac.move_to_element(like_button_tag)\n",
    "        ac.click()\n",
    "        ac.perform()\n",
    "        \n",
    "        time.sleep(1)\n",
    "        \n",
    "        ac.ActionChains(d)\n",
    "        ac.send_keys(Keys.ESCAPE)\n",
    "        ac.perform()\n",
    "        time.sleep(1)\n",
    "\n",
    "except:\n",
    "    traceback.print_exc()\n",
    "finally:\n",
    "    time.sleep(5)\n",
    "    d.quit()"
   ]
  },
  {
   "cell_type": "markdown",
   "id": "a9dc4702-d3f0-4b2b-97ad-348d3b11f38b",
   "metadata": {},
   "source": []
  }
 ],
 "metadata": {
  "kernelspec": {
   "display_name": "Python 3",
   "language": "python",
   "name": "python3"
  },
  "language_info": {
   "codemirror_mode": {
    "name": "ipython",
    "version": 3
   },
   "file_extension": ".py",
   "mimetype": "text/x-python",
   "name": "python",
   "nbconvert_exporter": "python",
   "pygments_lexer": "ipython3",
   "version": "3.8.5"
  }
 },
 "nbformat": 4,
 "nbformat_minor": 5
}
