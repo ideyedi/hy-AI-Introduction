{
 "cells": [
  {
   "cell_type": "markdown",
   "metadata": {},
   "source": [
    "# [Deep Learning for Vision Systems](https://www.manning.com/books/deep-learning-for-vision-systems?a_aid=compvisionbookcom&a_bid=90abff15) Book\n",
    "\n",
    "\n",
    "## AlexNet implementation with Keras\n"
   ]
  },
  {
   "cell_type": "markdown",
   "source": [
    "<img src=\"./images/alexnet_architecture.png\" width=\"900\" height=\"600\">"
   ],
   "metadata": {
    "collapsed": false
   }
  },
  {
   "cell_type": "code",
   "execution_count": 1,
   "metadata": {},
   "outputs": [],
   "source": [
    "from keras.models import Sequential\n",
    "from keras.layers import Conv2D, AveragePooling2D, Flatten, Dense,Activation,MaxPool2D, BatchNormalization, Dropout\n",
    "from keras.regularizers import l2"
   ]
  },
  {
   "cell_type": "code",
   "execution_count": 2,
   "outputs": [
    {
     "name": "stdout",
     "output_type": "stream",
     "text": [
      "The MNIST database has a training set of 60000 examples.\n",
      "The MNIST database has a test set of 10000 examples.\n"
     ]
    }
   ],
   "source": [
    "# Add MINIST\n",
    "from keras.datasets import mnist\n",
    "import numpy as np\n",
    "\n",
    "# use Keras to import pre-shuffled MNIST database\n",
    "(X_train, y_train), (X_test, y_test) = mnist.load_data()\n",
    "\n",
    "print(\"The MNIST database has a training set of %d examples.\" % len(X_train))\n",
    "print(\"The MNIST database has a test set of %d examples.\" % len(X_test))"
   ],
   "metadata": {
    "collapsed": false,
    "pycharm": {
     "name": "#%%\n"
    }
   }
  },
  {
   "cell_type": "code",
   "execution_count": 3,
   "outputs": [
    {
     "name": "stdout",
     "output_type": "stream",
     "text": [
      "X_train shape: (60000, 28, 28)\n",
      "60000 train samples\n",
      "10000 test samples\n"
     ]
    }
   ],
   "source": [
    "# normalize the data to accelerate learning\n",
    "mean = np.mean(X_train)\n",
    "std = np.std(X_train)\n",
    "\n",
    "# 이번 학기의 목적 Batch norm을 잘 쓸수 있으면 성공적입니다.\n",
    "X_train = (X_train-mean)/(std+1e-7)\n",
    "X_test = (X_test-mean)/(std+1e-7)\n",
    "\n",
    "print('X_train shape:', X_train.shape)\n",
    "print(X_train.shape[0], 'train samples')\n",
    "print(X_test.shape[0], 'test samples')"
   ],
   "metadata": {
    "collapsed": false,
    "pycharm": {
     "name": "#%%\n"
    }
   }
  },
  {
   "cell_type": "code",
   "execution_count": 4,
   "outputs": [
    {
     "name": "stdout",
     "output_type": "stream",
     "text": [
      "Integer-valued labels:\n",
      "[5 0 4 1 9 2 1 3 1 4]\n"
     ]
    }
   ],
   "source": [
    "from keras.utils import np_utils\n",
    "\n",
    "num_classes = 10\n",
    "# print first ten (integer-valued) training labels\n",
    "print('Integer-valued labels:')\n",
    "print(y_train[:10])\n",
    "\n",
    "# one-hot encode the labels\n",
    "# convert class vectors to binary class matrices\n",
    "# 난 to_dummy를 썻었는데 요건 Keras껄 쓴건가\n",
    "y_train = np_utils.to_categorical(y_train, num_classes)\n",
    "y_test = np_utils.to_categorical(y_test, num_classes)"
   ],
   "metadata": {
    "collapsed": false,
    "pycharm": {
     "name": "#%%\n"
    }
   }
  },
  {
   "cell_type": "code",
   "execution_count": 5,
   "outputs": [],
   "source": [
    "# input image dimensions 28x28 pixel images.\n",
    "img_rows, img_cols = 28, 28\n",
    "\n",
    "X_train = X_train.reshape(X_train.shape[0], img_rows, img_cols, 1)\n",
    "X_test = X_test.reshape(X_test.shape[0], img_rows, img_cols, 1)\n",
    "input_shape = (img_rows, img_cols, 1)"
   ],
   "metadata": {
    "collapsed": false,
    "pycharm": {
     "name": "#%%\n"
    }
   }
  },
  {
   "cell_type": "code",
   "execution_count": 22,
   "metadata": {},
   "outputs": [
    {
     "name": "stdout",
     "output_type": "stream",
     "text": [
      "Model: \"Alexnet\"\n",
      "_________________________________________________________________\n",
      " Layer (type)                Output Shape              Param #   \n",
      "=================================================================\n",
      " conv2d_44 (Conv2D)          (None, 26, 26, 64)        640       \n",
      "                                                                 \n",
      " activation_44 (Activation)  (None, 26, 26, 64)        0         \n",
      "                                                                 \n",
      " max_pooling2d_28 (MaxPoolin  (None, 13, 13, 64)       0         \n",
      " g2D)                                                            \n",
      "                                                                 \n",
      " batch_normalization_42 (Bat  (None, 13, 13, 64)       256       \n",
      " chNormalization)                                                \n",
      "                                                                 \n",
      " conv2d_45 (Conv2D)          (None, 13, 13, 128)       73856     \n",
      "                                                                 \n",
      " activation_45 (Activation)  (None, 13, 13, 128)       0         \n",
      "                                                                 \n",
      " max_pooling2d_29 (MaxPoolin  (None, 6, 6, 128)        0         \n",
      " g2D)                                                            \n",
      "                                                                 \n",
      " batch_normalization_43 (Bat  (None, 6, 6, 128)        512       \n",
      " chNormalization)                                                \n",
      "                                                                 \n",
      " conv2d_46 (Conv2D)          (None, 6, 6, 384)         442752    \n",
      "                                                                 \n",
      " activation_46 (Activation)  (None, 6, 6, 384)         0         \n",
      "                                                                 \n",
      " batch_normalization_44 (Bat  (None, 6, 6, 384)        1536      \n",
      " chNormalization)                                                \n",
      "                                                                 \n",
      " conv2d_47 (Conv2D)          (None, 6, 6, 384)         1327488   \n",
      "                                                                 \n",
      " activation_47 (Activation)  (None, 6, 6, 384)         0         \n",
      "                                                                 \n",
      " batch_normalization_45 (Bat  (None, 6, 6, 384)        1536      \n",
      " chNormalization)                                                \n",
      "                                                                 \n",
      " conv2d_48 (Conv2D)          (None, 6, 6, 256)         884992    \n",
      "                                                                 \n",
      " activation_48 (Activation)  (None, 6, 6, 256)         0         \n",
      "                                                                 \n",
      " batch_normalization_46 (Bat  (None, 6, 6, 256)        1024      \n",
      " chNormalization)                                                \n",
      "                                                                 \n",
      " max_pooling2d_30 (MaxPoolin  (None, 2, 2, 256)        0         \n",
      " g2D)                                                            \n",
      "                                                                 \n",
      " flatten_6 (Flatten)         (None, 1024)              0         \n",
      "                                                                 \n",
      " dense_18 (Dense)            (None, 4096)              4198400   \n",
      "                                                                 \n",
      " dropout_12 (Dropout)        (None, 4096)              0         \n",
      "                                                                 \n",
      " dense_19 (Dense)            (None, 4096)              16781312  \n",
      "                                                                 \n",
      " dropout_13 (Dropout)        (None, 4096)              0         \n",
      "                                                                 \n",
      " dense_20 (Dense)            (None, 10)                40970     \n",
      "                                                                 \n",
      "=================================================================\n",
      "Total params: 23,755,274\n",
      "Trainable params: 23,752,842\n",
      "Non-trainable params: 2,432\n",
      "_________________________________________________________________\n"
     ]
    }
   ],
   "source": [
    "# Instantiate an empty sequential model\n",
    "model = Sequential(name=\"Alexnet\")\n",
    "# 1st layer (conv + pool + batchnorm)\n",
    "# model.add(Conv2D(filters= 96, kernel_size= (11,11), strides=(4,4), padding='valid', kernel_regularizer=l2(0.0005), input_shape = (227,227,3)))\n",
    "# Change iput-shape\n",
    "model.add(Conv2D(filters= 64, kernel_size= (3,3), strides=(1,1), padding='valid', kernel_regularizer=l2(0.0005), input_shape = (28,28,1)))\n",
    "model.add(Activation('relu'))  #<---- activation function can be added on its own layer or within the Conv2D function\n",
    "# model.add(MaxPool2D(pool_size=(3,3), strides= (2,2), padding='valid'))\n",
    "model.add(MaxPool2D(pool_size=(2,2), strides= (2,2), padding='valid'))\n",
    "model.add(BatchNormalization())\n",
    "    \n",
    "# 2nd layer (conv + pool + batchnorm)\n",
    "# model.add(Conv2D(filters=256, kernel_size=(5,5), strides=(1,1), padding='same', kernel_regularizer=l2(0.0005)))\n",
    "model.add(Conv2D(filters=128, kernel_size=(3,3), strides=(1,1), padding='same', kernel_regularizer=l2(0.0005)))\n",
    "model.add(Activation('relu'))\n",
    "# model.add(MaxPool2D(pool_size=(3,3), strides=(2,2), padding='valid'))\n",
    "model.add(MaxPool2D(pool_size=(2,2), strides=(2,2), padding='valid'))\n",
    "model.add(BatchNormalization())\n",
    "            \n",
    "# layer 3 (conv + batchnorm)      <--- note that the authors did not add a POOL layer here\n",
    "model.add(Conv2D(filters=384, kernel_size=(3,3), strides=(1,1), padding='same', kernel_regularizer=l2(0.0005)))\n",
    "model.add(Activation('relu'))\n",
    "model.add(BatchNormalization())\n",
    "        \n",
    "# layer 4 (conv + batchnorm)      <--- similar to layer 3\n",
    "model.add(Conv2D(filters=384, kernel_size=(3,3), strides=(1,1), padding='same', kernel_regularizer=l2(0.0005)))\n",
    "model.add(Activation('relu'))\n",
    "model.add(BatchNormalization())\n",
    "            \n",
    "# layer 5 (conv + batchnorm)  \n",
    "model.add(Conv2D(filters=256, kernel_size=(3,3), strides=(1,1), padding='same', kernel_regularizer=l2(0.0005)))\n",
    "model.add(Activation('relu'))\n",
    "model.add(BatchNormalization())\n",
    "model.add(MaxPool2D(pool_size=(3,3), strides=(2,2), padding='valid'))\n",
    "\n",
    "# Flatten the CNN output to feed it with fully connected layers\n",
    "model.add(Flatten())\n",
    "\n",
    "# layer 6 (Dense layer + dropout)  \n",
    "model.add(Dense(units = 4096, activation = 'relu'))\n",
    "model.add(Dropout(0.5))\n",
    "\n",
    "# layer 7 (Dense layers) \n",
    "model.add(Dense(units = 4096, activation = 'relu'))\n",
    "model.add(Dropout(0.5))\n",
    "                           \n",
    "# layer 8 (softmax output layer) \n",
    "model.add(Dense(units = 10, activation = 'softmax'))\n",
    "\n",
    "# print the model summary\n",
    "model.summary()\n"
   ]
  },
  {
   "cell_type": "code",
   "metadata": {
    "pycharm": {
     "name": "#%%\n"
    }
   },
   "source": [
    "# the loss function is categorical cross entropy since we have multiple classes (10)\n",
    "\n",
    "\n",
    "# compile the model by defining the loss function, optimizer, and performance metric\n",
    "model.compile(loss='categorical_crossentropy', optimizer='adam', metrics=['accuracy'])"
   ],
   "execution_count": 23,
   "outputs": []
  },
  {
   "cell_type": "code",
   "execution_count": 24,
   "outputs": [
    {
     "name": "stdout",
     "output_type": "stream",
     "text": [
      "Epoch 1/20\n",
      "\n",
      "Epoch 1: val_loss improved from inf to 0.36095, saving model to model.weights.best.hdf5\n",
      "1875/1875 - 565s - loss: 0.6231 - accuracy: 0.9495 - val_loss: 0.3609 - val_accuracy: 0.9827 - lr: 5.0000e-04 - 565s/epoch - 301ms/step\n",
      "Epoch 2/20\n",
      "\n",
      "Epoch 2: val_loss improved from 0.36095 to 0.27696, saving model to model.weights.best.hdf5\n",
      "1875/1875 - 541s - loss: 0.3123 - accuracy: 0.9765 - val_loss: 0.2770 - val_accuracy: 0.9747 - lr: 5.0000e-04 - 541s/epoch - 288ms/step\n",
      "Epoch 3/20\n",
      "\n",
      "Epoch 3: val_loss improved from 0.27696 to 0.26122, saving model to model.weights.best.hdf5\n",
      "1875/1875 - 590s - loss: 0.2636 - accuracy: 0.9763 - val_loss: 0.2612 - val_accuracy: 0.9828 - lr: 5.0000e-04 - 590s/epoch - 315ms/step\n",
      "Epoch 4/20\n",
      "\n",
      "Epoch 4: val_loss improved from 0.26122 to 0.13076, saving model to model.weights.best.hdf5\n",
      "1875/1875 - 580s - loss: 0.1688 - accuracy: 0.9891 - val_loss: 0.1308 - val_accuracy: 0.9895 - lr: 2.0000e-04 - 580s/epoch - 309ms/step\n",
      "Epoch 5/20\n",
      "\n",
      "Epoch 5: val_loss improved from 0.13076 to 0.12921, saving model to model.weights.best.hdf5\n",
      "1875/1875 - 545s - loss: 0.1322 - accuracy: 0.9889 - val_loss: 0.1292 - val_accuracy: 0.9893 - lr: 2.0000e-04 - 545s/epoch - 291ms/step\n",
      "Epoch 6/20\n",
      "\n",
      "Epoch 6: val_loss improved from 0.12921 to 0.10634, saving model to model.weights.best.hdf5\n",
      "1875/1875 - 531s - loss: 0.1191 - accuracy: 0.9900 - val_loss: 0.1063 - val_accuracy: 0.9906 - lr: 2.0000e-04 - 531s/epoch - 283ms/step\n",
      "Epoch 7/20\n",
      "\n",
      "Epoch 7: val_loss improved from 0.10634 to 0.07906, saving model to model.weights.best.hdf5\n",
      "1875/1875 - 504s - loss: 0.0799 - accuracy: 0.9959 - val_loss: 0.0791 - val_accuracy: 0.9933 - lr: 5.0000e-05 - 504s/epoch - 269ms/step\n",
      "Epoch 8/20\n",
      "\n",
      "Epoch 8: val_loss improved from 0.07906 to 0.07034, saving model to model.weights.best.hdf5\n",
      "1875/1875 - 571s - loss: 0.0619 - accuracy: 0.9970 - val_loss: 0.0703 - val_accuracy: 0.9937 - lr: 5.0000e-05 - 571s/epoch - 304ms/step\n",
      "Epoch 9/20\n",
      "\n",
      "Epoch 9: val_loss improved from 0.07034 to 0.06913, saving model to model.weights.best.hdf5\n",
      "1875/1875 - 559s - loss: 0.0520 - accuracy: 0.9973 - val_loss: 0.0691 - val_accuracy: 0.9939 - lr: 5.0000e-05 - 559s/epoch - 298ms/step\n",
      "Epoch 10/20\n",
      "\n",
      "Epoch 10: val_loss improved from 0.06913 to 0.06465, saving model to model.weights.best.hdf5\n",
      "1875/1875 - 552s - loss: 0.0469 - accuracy: 0.9972 - val_loss: 0.0647 - val_accuracy: 0.9939 - lr: 5.0000e-05 - 552s/epoch - 294ms/step\n",
      "Epoch 11/20\n",
      "\n",
      "Epoch 11: val_loss improved from 0.06465 to 0.05744, saving model to model.weights.best.hdf5\n",
      "1875/1875 - 591s - loss: 0.0405 - accuracy: 0.9987 - val_loss: 0.0574 - val_accuracy: 0.9949 - lr: 1.0000e-05 - 591s/epoch - 315ms/step\n",
      "Epoch 12/20\n",
      "\n",
      "Epoch 12: val_loss did not improve from 0.05744\n",
      "1875/1875 - 573s - loss: 0.0365 - accuracy: 0.9993 - val_loss: 0.0586 - val_accuracy: 0.9947 - lr: 1.0000e-05 - 573s/epoch - 306ms/step\n",
      "Epoch 13/20\n",
      "\n",
      "Epoch 13: val_loss did not improve from 0.05744\n",
      "1875/1875 - 569s - loss: 0.0333 - accuracy: 0.9995 - val_loss: 0.0588 - val_accuracy: 0.9946 - lr: 1.0000e-05 - 569s/epoch - 303ms/step\n",
      "Epoch 14/20\n",
      "\n",
      "Epoch 14: val_loss did not improve from 0.05744\n",
      "1875/1875 - 555s - loss: 0.0313 - accuracy: 0.9995 - val_loss: 0.0581 - val_accuracy: 0.9938 - lr: 1.0000e-05 - 555s/epoch - 296ms/step\n",
      "Epoch 15/20\n",
      "\n",
      "Epoch 15: val_loss did not improve from 0.05744\n",
      "1875/1875 - 585s - loss: 0.0292 - accuracy: 0.9998 - val_loss: 0.0575 - val_accuracy: 0.9944 - lr: 1.0000e-05 - 585s/epoch - 312ms/step\n",
      "Epoch 16/20\n",
      "\n",
      "Epoch 16: val_loss did not improve from 0.05744\n",
      "1875/1875 - 583s - loss: 0.0270 - accuracy: 0.9999 - val_loss: 0.0622 - val_accuracy: 0.9947 - lr: 1.0000e-05 - 583s/epoch - 311ms/step\n",
      "Epoch 17/20\n",
      "\n",
      "Epoch 17: val_loss improved from 0.05744 to 0.05618, saving model to model.weights.best.hdf5\n",
      "1875/1875 - 578s - loss: 0.0258 - accuracy: 0.9997 - val_loss: 0.0562 - val_accuracy: 0.9951 - lr: 1.0000e-05 - 578s/epoch - 308ms/step\n",
      "Epoch 18/20\n",
      "\n",
      "Epoch 18: val_loss did not improve from 0.05618\n",
      "1875/1875 - 573s - loss: 0.0240 - accuracy: 0.9998 - val_loss: 0.0582 - val_accuracy: 0.9939 - lr: 1.0000e-05 - 573s/epoch - 305ms/step\n",
      "Epoch 19/20\n",
      "\n",
      "Epoch 19: val_loss improved from 0.05618 to 0.05233, saving model to model.weights.best.hdf5\n",
      "1875/1875 - 572s - loss: 0.0235 - accuracy: 0.9997 - val_loss: 0.0523 - val_accuracy: 0.9950 - lr: 1.0000e-05 - 572s/epoch - 305ms/step\n",
      "Epoch 20/20\n",
      "\n",
      "Epoch 20: val_loss did not improve from 0.05233\n",
      "1875/1875 - 571s - loss: 0.0225 - accuracy: 0.9997 - val_loss: 0.0564 - val_accuracy: 0.9949 - lr: 1.0000e-05 - 571s/epoch - 305ms/step\n"
     ]
    }
   ],
   "source": [
    "from keras.callbacks import ModelCheckpoint, LearningRateScheduler\n",
    "\n",
    "# set the learning rate schedule as created in the original paper\n",
    "def lr_schedule(epoch):\n",
    "    if epoch <= 2:\n",
    "        lr = 5e-4\n",
    "    elif epoch > 2 and epoch <= 5:\n",
    "        lr = 2e-4\n",
    "    elif epoch > 5 and epoch <= 9:\n",
    "        lr = 5e-5\n",
    "    else:\n",
    "        lr = 1e-5\n",
    "    return lr\n",
    "\n",
    "lr_scheduler = LearningRateScheduler(lr_schedule)\n",
    "\n",
    "# set the checkpointer\n",
    "checkpointer = ModelCheckpoint(filepath='model.weights.best.hdf5', verbose=1,\n",
    "                               save_best_only=True)\n",
    "\n",
    "# train the model\n",
    "hist = model.fit(X_train, y_train, batch_size=32, epochs=20,\n",
    "          validation_data=(X_test, y_test), callbacks=[checkpointer, lr_scheduler],\n",
    "          verbose=2, shuffle=True)"
   ],
   "metadata": {
    "collapsed": false,
    "pycharm": {
     "name": "#%%\n"
    }
   }
  },
  {
   "cell_type": "code",
   "execution_count": 25,
   "outputs": [],
   "source": [
    "# load the weights that yielded the best validation accuracy\n",
    "model.load_weights('model.weights.best.hdf5')"
   ],
   "metadata": {
    "collapsed": false,
    "pycharm": {
     "name": "#%%\n"
    }
   }
  },
  {
   "cell_type": "code",
   "execution_count": 26,
   "outputs": [
    {
     "name": "stdout",
     "output_type": "stream",
     "text": [
      "Test accuracy: 99.5000%\n"
     ]
    }
   ],
   "source": [
    "# evaluate test accuracy\n",
    "score = model.evaluate(X_test, y_test, verbose=0)\n",
    "accuracy = 100*score[1]\n",
    "\n",
    "# print test accuracy\n",
    "print('Test accuracy: %.4f%%' % accuracy)"
   ],
   "metadata": {
    "collapsed": false,
    "pycharm": {
     "name": "#%%\n"
    }
   }
  },
  {
   "cell_type": "code",
   "execution_count": null,
   "outputs": [],
   "source": [],
   "metadata": {
    "collapsed": false,
    "pycharm": {
     "name": "#%%\n"
    }
   }
  }
 ],
 "metadata": {
  "anaconda-cloud": {},
  "kernelspec": {
   "display_name": "Python 3 (ipykernel)",
   "language": "python",
   "name": "python3"
  },
  "language_info": {
   "codemirror_mode": {
    "name": "ipython",
    "version": 3
   },
   "file_extension": ".py",
   "mimetype": "text/x-python",
   "name": "python",
   "nbconvert_exporter": "python",
   "pygments_lexer": "ipython3",
   "version": "3.8.12"
  }
 },
 "nbformat": 4,
 "nbformat_minor": 4
}