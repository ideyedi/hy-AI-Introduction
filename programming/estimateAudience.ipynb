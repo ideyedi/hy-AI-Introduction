{
 "cells": [
  {
   "cell_type": "code",
   "execution_count": 22,
   "id": "a21cd1f2-c512-4d6b-8962-54b30e19863a",
   "metadata": {},
   "outputs": [],
   "source": [
    "import numpy as np\n",
    "import pandas as pd\n",
    "\n",
    "# install cmake, libomp\n",
    "from xgboost import XGBRegressor\n",
    "from xgboost import plot_importance\n",
    "\n",
    "from sklearn.model_selection import KFold\n",
    "from sklearn.metrics import mean_squared_error\n",
    "from sklearn.model_selection import train_test_split\n",
    "from sklearn.metrics import accuracy_score\n",
    "\n",
    "from matplotlib import pyplot"
   ]
  },
  {
   "cell_type": "code",
   "execution_count": 23,
   "id": "fb36b1d1-844d-4c33-a007-37294d35da71",
   "metadata": {},
   "outputs": [],
   "source": [
    "# Get data-set\n",
    "main_df = pd.read_csv('./movie_clean_bc.csv', encoding='cp949')"
   ]
  },
  {
   "cell_type": "code",
   "execution_count": 24,
   "id": "b2f3c252-ebfc-4310-9bce-ec9f74f5bae2",
   "metadata": {},
   "outputs": [],
   "source": [
    "#main_df.describe()\n",
    "#main_df.info()\n",
    "#main_df.shape[0]\n",
    "#main_df['15세이상관람가'].unique()\n",
    "df = main_df \n",
    "drop_flag = False"
   ]
  },
  {
   "cell_type": "code",
   "execution_count": 25,
   "id": "0e1e54ff-9f94-45de-91f8-fd9a6ce3e9aa",
   "metadata": {},
   "outputs": [],
   "source": [
    "# 상영 전 평론가, 관객의 점수는 지표로 사용할 수 없다. (Drop)\n",
    "if drop_flag == False:\n",
    "    df = df.drop(['비평가 점수', '관객 평가(네티즌평가)'], axis=1)\n",
    "    drop_flag = True"
   ]
  },
  {
   "cell_type": "code",
   "execution_count": 26,
   "id": "39159049-9878-4757-b4e2-a923f4c0f5b8",
   "metadata": {},
   "outputs": [
    {
     "data": {
      "text/plain": [
       "((1644, 34), (1644, 34))"
      ]
     },
     "execution_count": 26,
     "metadata": {},
     "output_type": "execute_result"
    }
   ],
   "source": [
    "y = [idx for idx in range(0, df.shape[0])]\n",
    "# Test-Set 분리\n",
    "x_train, x_test, y_train, y_test = train_test_split(df, y, test_size=0.5, random_state=10)\n",
    "x_train.shape, x_test.shape"
   ]
  },
  {
   "cell_type": "code",
   "execution_count": 27,
   "id": "d6e92059-472b-45e2-a22d-00a104e5023d",
   "metadata": {},
   "outputs": [
    {
     "data": {
      "text/plain": [
       "(414     12.825845\n",
       " 3091    10.031661\n",
       " 2459    10.045768\n",
       " 1911     9.775654\n",
       " 2998    13.007401\n",
       " Name: 총관객수, dtype: float64,\n",
       " (1644,))"
      ]
     },
     "execution_count": 27,
     "metadata": {},
     "output_type": "execute_result"
    }
   ],
   "source": [
    "y = np.log1p(x_train['총관객수'])\n",
    "y.head(), y.shape"
   ]
  },
  {
   "cell_type": "code",
   "execution_count": 28,
   "id": "d917e4ab-8d0e-4a5d-824c-9b0bfbbde5eb",
   "metadata": {},
   "outputs": [],
   "source": [
    "# Test set도 결과도 log 취함\n",
    "y_vali = np.log1p(x_test['총관객수'])"
   ]
  },
  {
   "cell_type": "code",
   "execution_count": 29,
   "id": "890a9913-3380-46ad-92ce-6821aa05e869",
   "metadata": {},
   "outputs": [
    {
     "data": {
      "text/plain": [
       "(      계절성여부  상영시간(분)  스크린수  전체관람가  12세이상관람가  15세이상관람가      배우파워1      배우파워2  \\\n",
       " 413       0      110   299      0         0         1  2199359.0  1066765.0   \n",
       " 290       0      103   182      0         0         1   520753.0        1.0   \n",
       " 860       1       95   167      0         1         0        1.0        1.0   \n",
       " 2952      0      106   143      0         0         1  2026574.0   137340.0   \n",
       " 1835      0      124   356      1         0         0   243094.0   471310.0   \n",
       " \n",
       "         감독파워  다양성(독립)영화  ...  범죄  미스터리  뮤지컬  가족  서부극(웨스턴)  공연  성인물(에로)  기타  \\\n",
       " 413    10036          0  ...   0     0    0   0         0   0        0   0   \n",
       " 290   101879          0  ...   0     0    0   0         0   0        0   0   \n",
       " 860        1          1  ...   0     0    0   0         0   0        0   0   \n",
       " 2952   20413          1  ...   0     0    0   0         0   0        0   0   \n",
       " 1835  742475          0  ...   0     0    0   0         0   0        0   0   \n",
       " \n",
       "       다국적  배급사파워1  \n",
       " 413     1      29  \n",
       " 290     0      18  \n",
       " 860     1      15  \n",
       " 2952    0      19  \n",
       " 1835    0      17  \n",
       " \n",
       " [5 rows x 33 columns],\n",
       " (1644, 33))"
      ]
     },
     "execution_count": 29,
     "metadata": {},
     "output_type": "execute_result"
    }
   ],
   "source": [
    "x = x_train.drop('총관객수', axis=1)\n",
    "x_vali = x_test.drop('총관객수', axis=1)\n",
    "x_vali.head(), x_vali.shape"
   ]
  },
  {
   "cell_type": "code",
   "execution_count": 30,
   "id": "0e2da88e-85ef-4f19-a980-b22e049dc941",
   "metadata": {},
   "outputs": [],
   "source": [
    "# K-fold로 10개의 generator 생성\n",
    "kf = KFold(n_splits =  10, shuffle = True, random_state = 96)\n",
    "# Make Model\n",
    "xgb = XGBRegressor(random_state = 256)"
   ]
  },
  {
   "cell_type": "code",
   "execution_count": 31,
   "id": "063ed9f0-ba8a-4369-98f8-71060b6c2413",
   "metadata": {},
   "outputs": [],
   "source": [
    "rmse_list = []\n",
    "xgb_pred = np.zeros((x_train.shape[0]))\n",
    "\n",
    "# K(10)-fold validation Loop\n",
    "for tr_idx, val_idx in kf.split(x, y) :\n",
    "    tr_x, tr_y = x.iloc[tr_idx], y.iloc[tr_idx]\n",
    "    val_x, val_y = x.iloc[val_idx], y.iloc[val_idx]\n",
    "    \n",
    "    xgb.fit(tr_x, tr_y)\n",
    "    \n",
    "    pred = np.expm1([0 if x < 0 else x for x in xgb.predict(val_x)])\n",
    "    sub_pred = np.expm1([0 if x < 0 else x for x in xgb.predict(x_vali)])\n",
    "    rmse = np.sqrt(mean_squared_error(val_y, pred))\n",
    "    \n",
    "    \n",
    "    rmse_list.append(rmse)\n",
    "    xgb_pred += (sub_pred / 10)"
   ]
  },
  {
   "cell_type": "markdown",
   "id": "9351f736-ff37-4cfb-b705-3987e6d528d8",
   "metadata": {},
   "source": [
    "* regression Model accuracy"
   ]
  },
  {
   "cell_type": "code",
   "execution_count": 32,
   "id": "715a5f16-283c-494b-8b06-6dd97fe8f3e1",
   "metadata": {},
   "outputs": [
    {
     "data": {
      "text/plain": [
       "'RMSE (Root mean square error ): 1419981.7625672037'"
      ]
     },
     "execution_count": 32,
     "metadata": {},
     "output_type": "execute_result"
    }
   ],
   "source": [
    "\"RMSE (Root mean square error ): {}\".format(np.mean(rmse_list))"
   ]
  }
 ],
 "metadata": {
  "kernelspec": {
   "display_name": "Python 3 (ipykernel)",
   "language": "python",
   "name": "python3"
  },
  "language_info": {
   "codemirror_mode": {
    "name": "ipython",
    "version": 3
   },
   "file_extension": ".py",
   "mimetype": "text/x-python",
   "name": "python",
   "nbconvert_exporter": "python",
   "pygments_lexer": "ipython3",
   "version": "3.9.9"
  }
 },
 "nbformat": 4,
 "nbformat_minor": 5
}
